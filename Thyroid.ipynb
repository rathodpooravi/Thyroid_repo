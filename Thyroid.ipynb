{
 "cells": [
  {
   "cell_type": "code",
   "execution_count": 1,
   "id": "9142fbde",
   "metadata": {},
   "outputs": [],
   "source": [
    "import pandas as pd\n",
    "import numpy as np\n",
    "\n",
    "import seaborn as sns\n",
    "import matplotlib.pyplot as plt\n",
    "\n",
    "\n",
    "from sklearn.model_selection import train_test_split\n",
    "from sklearn.linear_model import LinearRegression\n",
    "from sklearn.linear_model import LogisticRegression\n",
    "from sklearn.metrics import mean_absolute_error, mean_squared_error, r2_score\n",
    "from sklearn.metrics import confusion_matrix, classification_report\n",
    "from sklearn.metrics import precision_score, recall_score, f1_score, accuracy_score, multilabel_confusion_matrix\n",
    "from sklearn.metrics import roc_auc_score, roc_curve\n",
    "\n",
    "\n",
    "import pickle\n",
    "import json\n",
    "\n",
    "import matplotlib\n",
    "%matplotlib inline\n",
    "\n",
    "import warnings\n",
    "warnings.filterwarnings('ignore')"
   ]
  },
  {
   "cell_type": "code",
   "execution_count": 2,
   "id": "2f437ed3",
   "metadata": {},
   "outputs": [
    {
     "data": {
      "text/html": [
       "<div>\n",
       "<style scoped>\n",
       "    .dataframe tbody tr th:only-of-type {\n",
       "        vertical-align: middle;\n",
       "    }\n",
       "\n",
       "    .dataframe tbody tr th {\n",
       "        vertical-align: top;\n",
       "    }\n",
       "\n",
       "    .dataframe thead th {\n",
       "        text-align: right;\n",
       "    }\n",
       "</style>\n",
       "<table border=\"1\" class=\"dataframe\">\n",
       "  <thead>\n",
       "    <tr style=\"text-align: right;\">\n",
       "      <th></th>\n",
       "      <th>Age</th>\n",
       "      <th>Gender</th>\n",
       "      <th>Smoking</th>\n",
       "      <th>Hx Smoking</th>\n",
       "      <th>Hx Radiothreapy</th>\n",
       "      <th>Thyroid Function</th>\n",
       "      <th>Physical Examination</th>\n",
       "      <th>Adenopathy</th>\n",
       "      <th>Pathology</th>\n",
       "      <th>Focality</th>\n",
       "      <th>Risk</th>\n",
       "      <th>T</th>\n",
       "      <th>N</th>\n",
       "      <th>M</th>\n",
       "      <th>Stage</th>\n",
       "      <th>Response</th>\n",
       "      <th>Recurred</th>\n",
       "    </tr>\n",
       "  </thead>\n",
       "  <tbody>\n",
       "    <tr>\n",
       "      <th>0</th>\n",
       "      <td>27</td>\n",
       "      <td>F</td>\n",
       "      <td>No</td>\n",
       "      <td>No</td>\n",
       "      <td>No</td>\n",
       "      <td>Euthyroid</td>\n",
       "      <td>Single nodular goiter-left</td>\n",
       "      <td>No</td>\n",
       "      <td>Micropapillary</td>\n",
       "      <td>Uni-Focal</td>\n",
       "      <td>Low</td>\n",
       "      <td>T1a</td>\n",
       "      <td>N0</td>\n",
       "      <td>M0</td>\n",
       "      <td>I</td>\n",
       "      <td>Indeterminate</td>\n",
       "      <td>No</td>\n",
       "    </tr>\n",
       "    <tr>\n",
       "      <th>1</th>\n",
       "      <td>34</td>\n",
       "      <td>F</td>\n",
       "      <td>No</td>\n",
       "      <td>Yes</td>\n",
       "      <td>No</td>\n",
       "      <td>Euthyroid</td>\n",
       "      <td>Multinodular goiter</td>\n",
       "      <td>No</td>\n",
       "      <td>Micropapillary</td>\n",
       "      <td>Uni-Focal</td>\n",
       "      <td>Low</td>\n",
       "      <td>T1a</td>\n",
       "      <td>N0</td>\n",
       "      <td>M0</td>\n",
       "      <td>I</td>\n",
       "      <td>Excellent</td>\n",
       "      <td>No</td>\n",
       "    </tr>\n",
       "    <tr>\n",
       "      <th>2</th>\n",
       "      <td>30</td>\n",
       "      <td>F</td>\n",
       "      <td>No</td>\n",
       "      <td>No</td>\n",
       "      <td>No</td>\n",
       "      <td>Euthyroid</td>\n",
       "      <td>Single nodular goiter-right</td>\n",
       "      <td>No</td>\n",
       "      <td>Micropapillary</td>\n",
       "      <td>Uni-Focal</td>\n",
       "      <td>Low</td>\n",
       "      <td>T1a</td>\n",
       "      <td>N0</td>\n",
       "      <td>M0</td>\n",
       "      <td>I</td>\n",
       "      <td>Excellent</td>\n",
       "      <td>No</td>\n",
       "    </tr>\n",
       "    <tr>\n",
       "      <th>3</th>\n",
       "      <td>62</td>\n",
       "      <td>F</td>\n",
       "      <td>No</td>\n",
       "      <td>No</td>\n",
       "      <td>No</td>\n",
       "      <td>Euthyroid</td>\n",
       "      <td>Single nodular goiter-right</td>\n",
       "      <td>No</td>\n",
       "      <td>Micropapillary</td>\n",
       "      <td>Uni-Focal</td>\n",
       "      <td>Low</td>\n",
       "      <td>T1a</td>\n",
       "      <td>N0</td>\n",
       "      <td>M0</td>\n",
       "      <td>I</td>\n",
       "      <td>Excellent</td>\n",
       "      <td>No</td>\n",
       "    </tr>\n",
       "    <tr>\n",
       "      <th>4</th>\n",
       "      <td>62</td>\n",
       "      <td>F</td>\n",
       "      <td>No</td>\n",
       "      <td>No</td>\n",
       "      <td>No</td>\n",
       "      <td>Euthyroid</td>\n",
       "      <td>Multinodular goiter</td>\n",
       "      <td>No</td>\n",
       "      <td>Micropapillary</td>\n",
       "      <td>Multi-Focal</td>\n",
       "      <td>Low</td>\n",
       "      <td>T1a</td>\n",
       "      <td>N0</td>\n",
       "      <td>M0</td>\n",
       "      <td>I</td>\n",
       "      <td>Excellent</td>\n",
       "      <td>No</td>\n",
       "    </tr>\n",
       "    <tr>\n",
       "      <th>...</th>\n",
       "      <td>...</td>\n",
       "      <td>...</td>\n",
       "      <td>...</td>\n",
       "      <td>...</td>\n",
       "      <td>...</td>\n",
       "      <td>...</td>\n",
       "      <td>...</td>\n",
       "      <td>...</td>\n",
       "      <td>...</td>\n",
       "      <td>...</td>\n",
       "      <td>...</td>\n",
       "      <td>...</td>\n",
       "      <td>...</td>\n",
       "      <td>...</td>\n",
       "      <td>...</td>\n",
       "      <td>...</td>\n",
       "      <td>...</td>\n",
       "    </tr>\n",
       "    <tr>\n",
       "      <th>378</th>\n",
       "      <td>72</td>\n",
       "      <td>M</td>\n",
       "      <td>Yes</td>\n",
       "      <td>Yes</td>\n",
       "      <td>Yes</td>\n",
       "      <td>Euthyroid</td>\n",
       "      <td>Single nodular goiter-right</td>\n",
       "      <td>Right</td>\n",
       "      <td>Papillary</td>\n",
       "      <td>Uni-Focal</td>\n",
       "      <td>High</td>\n",
       "      <td>T4b</td>\n",
       "      <td>N1b</td>\n",
       "      <td>M1</td>\n",
       "      <td>IVB</td>\n",
       "      <td>Biochemical Incomplete</td>\n",
       "      <td>Yes</td>\n",
       "    </tr>\n",
       "    <tr>\n",
       "      <th>379</th>\n",
       "      <td>81</td>\n",
       "      <td>M</td>\n",
       "      <td>Yes</td>\n",
       "      <td>No</td>\n",
       "      <td>Yes</td>\n",
       "      <td>Euthyroid</td>\n",
       "      <td>Multinodular goiter</td>\n",
       "      <td>Extensive</td>\n",
       "      <td>Papillary</td>\n",
       "      <td>Multi-Focal</td>\n",
       "      <td>High</td>\n",
       "      <td>T4b</td>\n",
       "      <td>N1b</td>\n",
       "      <td>M1</td>\n",
       "      <td>IVB</td>\n",
       "      <td>Structural Incomplete</td>\n",
       "      <td>Yes</td>\n",
       "    </tr>\n",
       "    <tr>\n",
       "      <th>380</th>\n",
       "      <td>72</td>\n",
       "      <td>M</td>\n",
       "      <td>Yes</td>\n",
       "      <td>Yes</td>\n",
       "      <td>No</td>\n",
       "      <td>Euthyroid</td>\n",
       "      <td>Multinodular goiter</td>\n",
       "      <td>Bilateral</td>\n",
       "      <td>Papillary</td>\n",
       "      <td>Multi-Focal</td>\n",
       "      <td>High</td>\n",
       "      <td>T4b</td>\n",
       "      <td>N1b</td>\n",
       "      <td>M1</td>\n",
       "      <td>IVB</td>\n",
       "      <td>Structural Incomplete</td>\n",
       "      <td>Yes</td>\n",
       "    </tr>\n",
       "    <tr>\n",
       "      <th>381</th>\n",
       "      <td>61</td>\n",
       "      <td>M</td>\n",
       "      <td>Yes</td>\n",
       "      <td>Yes</td>\n",
       "      <td>Yes</td>\n",
       "      <td>Clinical Hyperthyroidism</td>\n",
       "      <td>Multinodular goiter</td>\n",
       "      <td>Extensive</td>\n",
       "      <td>Hurthel cell</td>\n",
       "      <td>Multi-Focal</td>\n",
       "      <td>High</td>\n",
       "      <td>T4b</td>\n",
       "      <td>N1b</td>\n",
       "      <td>M0</td>\n",
       "      <td>IVA</td>\n",
       "      <td>Structural Incomplete</td>\n",
       "      <td>Yes</td>\n",
       "    </tr>\n",
       "    <tr>\n",
       "      <th>382</th>\n",
       "      <td>67</td>\n",
       "      <td>M</td>\n",
       "      <td>Yes</td>\n",
       "      <td>No</td>\n",
       "      <td>No</td>\n",
       "      <td>Euthyroid</td>\n",
       "      <td>Multinodular goiter</td>\n",
       "      <td>Bilateral</td>\n",
       "      <td>Papillary</td>\n",
       "      <td>Multi-Focal</td>\n",
       "      <td>High</td>\n",
       "      <td>T4b</td>\n",
       "      <td>N1b</td>\n",
       "      <td>M0</td>\n",
       "      <td>IVA</td>\n",
       "      <td>Structural Incomplete</td>\n",
       "      <td>Yes</td>\n",
       "    </tr>\n",
       "  </tbody>\n",
       "</table>\n",
       "<p>383 rows × 17 columns</p>\n",
       "</div>"
      ],
      "text/plain": [
       "     Age Gender Smoking Hx Smoking Hx Radiothreapy          Thyroid Function  \\\n",
       "0     27      F      No         No              No                 Euthyroid   \n",
       "1     34      F      No        Yes              No                 Euthyroid   \n",
       "2     30      F      No         No              No                 Euthyroid   \n",
       "3     62      F      No         No              No                 Euthyroid   \n",
       "4     62      F      No         No              No                 Euthyroid   \n",
       "..   ...    ...     ...        ...             ...                       ...   \n",
       "378   72      M     Yes        Yes             Yes                 Euthyroid   \n",
       "379   81      M     Yes         No             Yes                 Euthyroid   \n",
       "380   72      M     Yes        Yes              No                 Euthyroid   \n",
       "381   61      M     Yes        Yes             Yes  Clinical Hyperthyroidism   \n",
       "382   67      M     Yes         No              No                 Euthyroid   \n",
       "\n",
       "            Physical Examination Adenopathy       Pathology     Focality  \\\n",
       "0     Single nodular goiter-left         No  Micropapillary    Uni-Focal   \n",
       "1            Multinodular goiter         No  Micropapillary    Uni-Focal   \n",
       "2    Single nodular goiter-right         No  Micropapillary    Uni-Focal   \n",
       "3    Single nodular goiter-right         No  Micropapillary    Uni-Focal   \n",
       "4            Multinodular goiter         No  Micropapillary  Multi-Focal   \n",
       "..                           ...        ...             ...          ...   \n",
       "378  Single nodular goiter-right      Right       Papillary    Uni-Focal   \n",
       "379          Multinodular goiter  Extensive       Papillary  Multi-Focal   \n",
       "380          Multinodular goiter  Bilateral       Papillary  Multi-Focal   \n",
       "381          Multinodular goiter  Extensive    Hurthel cell  Multi-Focal   \n",
       "382          Multinodular goiter  Bilateral       Papillary  Multi-Focal   \n",
       "\n",
       "     Risk    T    N   M Stage                Response Recurred  \n",
       "0     Low  T1a   N0  M0     I           Indeterminate       No  \n",
       "1     Low  T1a   N0  M0     I               Excellent       No  \n",
       "2     Low  T1a   N0  M0     I               Excellent       No  \n",
       "3     Low  T1a   N0  M0     I               Excellent       No  \n",
       "4     Low  T1a   N0  M0     I               Excellent       No  \n",
       "..    ...  ...  ...  ..   ...                     ...      ...  \n",
       "378  High  T4b  N1b  M1   IVB  Biochemical Incomplete      Yes  \n",
       "379  High  T4b  N1b  M1   IVB   Structural Incomplete      Yes  \n",
       "380  High  T4b  N1b  M1   IVB   Structural Incomplete      Yes  \n",
       "381  High  T4b  N1b  M0   IVA   Structural Incomplete      Yes  \n",
       "382  High  T4b  N1b  M0   IVA   Structural Incomplete      Yes  \n",
       "\n",
       "[383 rows x 17 columns]"
      ]
     },
     "execution_count": 2,
     "metadata": {},
     "output_type": "execute_result"
    }
   ],
   "source": [
    "df=pd.read_csv('Thyroid_Diff.csv')\n",
    "df"
   ]
  },
  {
   "cell_type": "code",
   "execution_count": 3,
   "id": "3598f01a",
   "metadata": {},
   "outputs": [
    {
     "data": {
      "text/plain": [
       "Age                     0\n",
       "Gender                  0\n",
       "Smoking                 0\n",
       "Hx Smoking              0\n",
       "Hx Radiothreapy         0\n",
       "Thyroid Function        0\n",
       "Physical Examination    0\n",
       "Adenopathy              0\n",
       "Pathology               0\n",
       "Focality                0\n",
       "Risk                    0\n",
       "T                       0\n",
       "N                       0\n",
       "M                       0\n",
       "Stage                   0\n",
       "Response                0\n",
       "Recurred                0\n",
       "dtype: int64"
      ]
     },
     "execution_count": 3,
     "metadata": {},
     "output_type": "execute_result"
    }
   ],
   "source": [
    "df.isnull().sum()"
   ]
  },
  {
   "cell_type": "code",
   "execution_count": 64,
   "id": "614db6a4",
   "metadata": {},
   "outputs": [
    {
     "data": {
      "text/plain": [
       "Age                     0\n",
       "Gender                  0\n",
       "Smoking                 0\n",
       "Hx Smoking              0\n",
       "Hx Radiothreapy         0\n",
       "Thyroid Function        0\n",
       "Physical Examination    0\n",
       "Adenopathy              0\n",
       "Pathology               0\n",
       "Focality                0\n",
       "Risk                    0\n",
       "T                       0\n",
       "N                       0\n",
       "M                       0\n",
       "Stage                   0\n",
       "Response                0\n",
       "Recurred                0\n",
       "dtype: int64"
      ]
     },
     "execution_count": 64,
     "metadata": {},
     "output_type": "execute_result"
    }
   ],
   "source": [
    "df.isnull().sum()"
   ]
  },
  {
   "cell_type": "code",
   "execution_count": 65,
   "id": "61b017d3",
   "metadata": {},
   "outputs": [
    {
     "data": {
      "text/plain": [
       "Index(['Age', 'Gender', 'Smoking', 'Hx Smoking', 'Hx Radiothreapy',\n",
       "       'Thyroid Function', 'Physical Examination', 'Adenopathy', 'Pathology',\n",
       "       'Focality', 'Risk', 'T', 'N', 'M', 'Stage', 'Response', 'Recurred'],\n",
       "      dtype='object')"
      ]
     },
     "execution_count": 65,
     "metadata": {},
     "output_type": "execute_result"
    }
   ],
   "source": [
    "df.columns"
   ]
  },
  {
   "cell_type": "code",
   "execution_count": 66,
   "id": "8823a7ab",
   "metadata": {},
   "outputs": [
    {
     "data": {
      "text/html": [
       "<div>\n",
       "<style scoped>\n",
       "    .dataframe tbody tr th:only-of-type {\n",
       "        vertical-align: middle;\n",
       "    }\n",
       "\n",
       "    .dataframe tbody tr th {\n",
       "        vertical-align: top;\n",
       "    }\n",
       "\n",
       "    .dataframe thead th {\n",
       "        text-align: right;\n",
       "    }\n",
       "</style>\n",
       "<table border=\"1\" class=\"dataframe\">\n",
       "  <thead>\n",
       "    <tr style=\"text-align: right;\">\n",
       "      <th></th>\n",
       "      <th>Age</th>\n",
       "      <th>Gender</th>\n",
       "      <th>Smoking</th>\n",
       "      <th>HxSmoking</th>\n",
       "      <th>HxRadiothreapy</th>\n",
       "      <th>ThyroidFunction</th>\n",
       "      <th>PhysicalExamination</th>\n",
       "      <th>Adenopathy</th>\n",
       "      <th>Pathology</th>\n",
       "      <th>Focality</th>\n",
       "      <th>Risk</th>\n",
       "      <th>T</th>\n",
       "      <th>N</th>\n",
       "      <th>M</th>\n",
       "      <th>Stage</th>\n",
       "      <th>Response</th>\n",
       "      <th>Target</th>\n",
       "    </tr>\n",
       "  </thead>\n",
       "  <tbody>\n",
       "    <tr>\n",
       "      <th>0</th>\n",
       "      <td>27</td>\n",
       "      <td>F</td>\n",
       "      <td>No</td>\n",
       "      <td>No</td>\n",
       "      <td>No</td>\n",
       "      <td>Euthyroid</td>\n",
       "      <td>Single nodular goiter-left</td>\n",
       "      <td>No</td>\n",
       "      <td>Micropapillary</td>\n",
       "      <td>Uni-Focal</td>\n",
       "      <td>Low</td>\n",
       "      <td>T1a</td>\n",
       "      <td>N0</td>\n",
       "      <td>M0</td>\n",
       "      <td>I</td>\n",
       "      <td>Indeterminate</td>\n",
       "      <td>No</td>\n",
       "    </tr>\n",
       "    <tr>\n",
       "      <th>1</th>\n",
       "      <td>34</td>\n",
       "      <td>F</td>\n",
       "      <td>No</td>\n",
       "      <td>Yes</td>\n",
       "      <td>No</td>\n",
       "      <td>Euthyroid</td>\n",
       "      <td>Multinodular goiter</td>\n",
       "      <td>No</td>\n",
       "      <td>Micropapillary</td>\n",
       "      <td>Uni-Focal</td>\n",
       "      <td>Low</td>\n",
       "      <td>T1a</td>\n",
       "      <td>N0</td>\n",
       "      <td>M0</td>\n",
       "      <td>I</td>\n",
       "      <td>Excellent</td>\n",
       "      <td>No</td>\n",
       "    </tr>\n",
       "    <tr>\n",
       "      <th>2</th>\n",
       "      <td>30</td>\n",
       "      <td>F</td>\n",
       "      <td>No</td>\n",
       "      <td>No</td>\n",
       "      <td>No</td>\n",
       "      <td>Euthyroid</td>\n",
       "      <td>Single nodular goiter-right</td>\n",
       "      <td>No</td>\n",
       "      <td>Micropapillary</td>\n",
       "      <td>Uni-Focal</td>\n",
       "      <td>Low</td>\n",
       "      <td>T1a</td>\n",
       "      <td>N0</td>\n",
       "      <td>M0</td>\n",
       "      <td>I</td>\n",
       "      <td>Excellent</td>\n",
       "      <td>No</td>\n",
       "    </tr>\n",
       "    <tr>\n",
       "      <th>3</th>\n",
       "      <td>62</td>\n",
       "      <td>F</td>\n",
       "      <td>No</td>\n",
       "      <td>No</td>\n",
       "      <td>No</td>\n",
       "      <td>Euthyroid</td>\n",
       "      <td>Single nodular goiter-right</td>\n",
       "      <td>No</td>\n",
       "      <td>Micropapillary</td>\n",
       "      <td>Uni-Focal</td>\n",
       "      <td>Low</td>\n",
       "      <td>T1a</td>\n",
       "      <td>N0</td>\n",
       "      <td>M0</td>\n",
       "      <td>I</td>\n",
       "      <td>Excellent</td>\n",
       "      <td>No</td>\n",
       "    </tr>\n",
       "    <tr>\n",
       "      <th>4</th>\n",
       "      <td>62</td>\n",
       "      <td>F</td>\n",
       "      <td>No</td>\n",
       "      <td>No</td>\n",
       "      <td>No</td>\n",
       "      <td>Euthyroid</td>\n",
       "      <td>Multinodular goiter</td>\n",
       "      <td>No</td>\n",
       "      <td>Micropapillary</td>\n",
       "      <td>Multi-Focal</td>\n",
       "      <td>Low</td>\n",
       "      <td>T1a</td>\n",
       "      <td>N0</td>\n",
       "      <td>M0</td>\n",
       "      <td>I</td>\n",
       "      <td>Excellent</td>\n",
       "      <td>No</td>\n",
       "    </tr>\n",
       "    <tr>\n",
       "      <th>...</th>\n",
       "      <td>...</td>\n",
       "      <td>...</td>\n",
       "      <td>...</td>\n",
       "      <td>...</td>\n",
       "      <td>...</td>\n",
       "      <td>...</td>\n",
       "      <td>...</td>\n",
       "      <td>...</td>\n",
       "      <td>...</td>\n",
       "      <td>...</td>\n",
       "      <td>...</td>\n",
       "      <td>...</td>\n",
       "      <td>...</td>\n",
       "      <td>...</td>\n",
       "      <td>...</td>\n",
       "      <td>...</td>\n",
       "      <td>...</td>\n",
       "    </tr>\n",
       "    <tr>\n",
       "      <th>378</th>\n",
       "      <td>72</td>\n",
       "      <td>M</td>\n",
       "      <td>Yes</td>\n",
       "      <td>Yes</td>\n",
       "      <td>Yes</td>\n",
       "      <td>Euthyroid</td>\n",
       "      <td>Single nodular goiter-right</td>\n",
       "      <td>Right</td>\n",
       "      <td>Papillary</td>\n",
       "      <td>Uni-Focal</td>\n",
       "      <td>High</td>\n",
       "      <td>T4b</td>\n",
       "      <td>N1b</td>\n",
       "      <td>M1</td>\n",
       "      <td>IVB</td>\n",
       "      <td>Biochemical Incomplete</td>\n",
       "      <td>Yes</td>\n",
       "    </tr>\n",
       "    <tr>\n",
       "      <th>379</th>\n",
       "      <td>81</td>\n",
       "      <td>M</td>\n",
       "      <td>Yes</td>\n",
       "      <td>No</td>\n",
       "      <td>Yes</td>\n",
       "      <td>Euthyroid</td>\n",
       "      <td>Multinodular goiter</td>\n",
       "      <td>Extensive</td>\n",
       "      <td>Papillary</td>\n",
       "      <td>Multi-Focal</td>\n",
       "      <td>High</td>\n",
       "      <td>T4b</td>\n",
       "      <td>N1b</td>\n",
       "      <td>M1</td>\n",
       "      <td>IVB</td>\n",
       "      <td>Structural Incomplete</td>\n",
       "      <td>Yes</td>\n",
       "    </tr>\n",
       "    <tr>\n",
       "      <th>380</th>\n",
       "      <td>72</td>\n",
       "      <td>M</td>\n",
       "      <td>Yes</td>\n",
       "      <td>Yes</td>\n",
       "      <td>No</td>\n",
       "      <td>Euthyroid</td>\n",
       "      <td>Multinodular goiter</td>\n",
       "      <td>Bilateral</td>\n",
       "      <td>Papillary</td>\n",
       "      <td>Multi-Focal</td>\n",
       "      <td>High</td>\n",
       "      <td>T4b</td>\n",
       "      <td>N1b</td>\n",
       "      <td>M1</td>\n",
       "      <td>IVB</td>\n",
       "      <td>Structural Incomplete</td>\n",
       "      <td>Yes</td>\n",
       "    </tr>\n",
       "    <tr>\n",
       "      <th>381</th>\n",
       "      <td>61</td>\n",
       "      <td>M</td>\n",
       "      <td>Yes</td>\n",
       "      <td>Yes</td>\n",
       "      <td>Yes</td>\n",
       "      <td>Clinical Hyperthyroidism</td>\n",
       "      <td>Multinodular goiter</td>\n",
       "      <td>Extensive</td>\n",
       "      <td>Hurthel cell</td>\n",
       "      <td>Multi-Focal</td>\n",
       "      <td>High</td>\n",
       "      <td>T4b</td>\n",
       "      <td>N1b</td>\n",
       "      <td>M0</td>\n",
       "      <td>IVA</td>\n",
       "      <td>Structural Incomplete</td>\n",
       "      <td>Yes</td>\n",
       "    </tr>\n",
       "    <tr>\n",
       "      <th>382</th>\n",
       "      <td>67</td>\n",
       "      <td>M</td>\n",
       "      <td>Yes</td>\n",
       "      <td>No</td>\n",
       "      <td>No</td>\n",
       "      <td>Euthyroid</td>\n",
       "      <td>Multinodular goiter</td>\n",
       "      <td>Bilateral</td>\n",
       "      <td>Papillary</td>\n",
       "      <td>Multi-Focal</td>\n",
       "      <td>High</td>\n",
       "      <td>T4b</td>\n",
       "      <td>N1b</td>\n",
       "      <td>M0</td>\n",
       "      <td>IVA</td>\n",
       "      <td>Structural Incomplete</td>\n",
       "      <td>Yes</td>\n",
       "    </tr>\n",
       "  </tbody>\n",
       "</table>\n",
       "<p>383 rows × 17 columns</p>\n",
       "</div>"
      ],
      "text/plain": [
       "     Age Gender Smoking HxSmoking HxRadiothreapy           ThyroidFunction  \\\n",
       "0     27      F      No        No             No                 Euthyroid   \n",
       "1     34      F      No       Yes             No                 Euthyroid   \n",
       "2     30      F      No        No             No                 Euthyroid   \n",
       "3     62      F      No        No             No                 Euthyroid   \n",
       "4     62      F      No        No             No                 Euthyroid   \n",
       "..   ...    ...     ...       ...            ...                       ...   \n",
       "378   72      M     Yes       Yes            Yes                 Euthyroid   \n",
       "379   81      M     Yes        No            Yes                 Euthyroid   \n",
       "380   72      M     Yes       Yes             No                 Euthyroid   \n",
       "381   61      M     Yes       Yes            Yes  Clinical Hyperthyroidism   \n",
       "382   67      M     Yes        No             No                 Euthyroid   \n",
       "\n",
       "             PhysicalExamination Adenopathy       Pathology     Focality  \\\n",
       "0     Single nodular goiter-left         No  Micropapillary    Uni-Focal   \n",
       "1            Multinodular goiter         No  Micropapillary    Uni-Focal   \n",
       "2    Single nodular goiter-right         No  Micropapillary    Uni-Focal   \n",
       "3    Single nodular goiter-right         No  Micropapillary    Uni-Focal   \n",
       "4            Multinodular goiter         No  Micropapillary  Multi-Focal   \n",
       "..                           ...        ...             ...          ...   \n",
       "378  Single nodular goiter-right      Right       Papillary    Uni-Focal   \n",
       "379          Multinodular goiter  Extensive       Papillary  Multi-Focal   \n",
       "380          Multinodular goiter  Bilateral       Papillary  Multi-Focal   \n",
       "381          Multinodular goiter  Extensive    Hurthel cell  Multi-Focal   \n",
       "382          Multinodular goiter  Bilateral       Papillary  Multi-Focal   \n",
       "\n",
       "     Risk    T    N   M Stage                Response Target  \n",
       "0     Low  T1a   N0  M0     I           Indeterminate     No  \n",
       "1     Low  T1a   N0  M0     I               Excellent     No  \n",
       "2     Low  T1a   N0  M0     I               Excellent     No  \n",
       "3     Low  T1a   N0  M0     I               Excellent     No  \n",
       "4     Low  T1a   N0  M0     I               Excellent     No  \n",
       "..    ...  ...  ...  ..   ...                     ...    ...  \n",
       "378  High  T4b  N1b  M1   IVB  Biochemical Incomplete    Yes  \n",
       "379  High  T4b  N1b  M1   IVB   Structural Incomplete    Yes  \n",
       "380  High  T4b  N1b  M1   IVB   Structural Incomplete    Yes  \n",
       "381  High  T4b  N1b  M0   IVA   Structural Incomplete    Yes  \n",
       "382  High  T4b  N1b  M0   IVA   Structural Incomplete    Yes  \n",
       "\n",
       "[383 rows x 17 columns]"
      ]
     },
     "execution_count": 66,
     "metadata": {},
     "output_type": "execute_result"
    }
   ],
   "source": [
    "df.columns=['Age', 'Gender', 'Smoking', 'HxSmoking', 'HxRadiothreapy',\n",
    "       'ThyroidFunction', 'PhysicalExamination', 'Adenopathy', 'Pathology',\n",
    "       'Focality', 'Risk', 'T', 'N', 'M', 'Stage', 'Response', 'Target']\n",
    "df"
   ]
  },
  {
   "cell_type": "code",
   "execution_count": 67,
   "id": "7c4d48cd",
   "metadata": {},
   "outputs": [
    {
     "data": {
      "text/html": [
       "<div>\n",
       "<style scoped>\n",
       "    .dataframe tbody tr th:only-of-type {\n",
       "        vertical-align: middle;\n",
       "    }\n",
       "\n",
       "    .dataframe tbody tr th {\n",
       "        vertical-align: top;\n",
       "    }\n",
       "\n",
       "    .dataframe thead th {\n",
       "        text-align: right;\n",
       "    }\n",
       "</style>\n",
       "<table border=\"1\" class=\"dataframe\">\n",
       "  <thead>\n",
       "    <tr style=\"text-align: right;\">\n",
       "      <th></th>\n",
       "      <th>0</th>\n",
       "    </tr>\n",
       "  </thead>\n",
       "  <tbody>\n",
       "    <tr>\n",
       "      <th>Age</th>\n",
       "      <td>27</td>\n",
       "    </tr>\n",
       "    <tr>\n",
       "      <th>Gender</th>\n",
       "      <td>F</td>\n",
       "    </tr>\n",
       "    <tr>\n",
       "      <th>Smoking</th>\n",
       "      <td>No</td>\n",
       "    </tr>\n",
       "    <tr>\n",
       "      <th>HxSmoking</th>\n",
       "      <td>No</td>\n",
       "    </tr>\n",
       "    <tr>\n",
       "      <th>HxRadiothreapy</th>\n",
       "      <td>No</td>\n",
       "    </tr>\n",
       "    <tr>\n",
       "      <th>ThyroidFunction</th>\n",
       "      <td>Euthyroid</td>\n",
       "    </tr>\n",
       "    <tr>\n",
       "      <th>PhysicalExamination</th>\n",
       "      <td>Single nodular goiter-left</td>\n",
       "    </tr>\n",
       "    <tr>\n",
       "      <th>Adenopathy</th>\n",
       "      <td>No</td>\n",
       "    </tr>\n",
       "    <tr>\n",
       "      <th>Pathology</th>\n",
       "      <td>Micropapillary</td>\n",
       "    </tr>\n",
       "    <tr>\n",
       "      <th>Focality</th>\n",
       "      <td>Uni-Focal</td>\n",
       "    </tr>\n",
       "    <tr>\n",
       "      <th>Risk</th>\n",
       "      <td>Low</td>\n",
       "    </tr>\n",
       "    <tr>\n",
       "      <th>T</th>\n",
       "      <td>T1a</td>\n",
       "    </tr>\n",
       "    <tr>\n",
       "      <th>N</th>\n",
       "      <td>N0</td>\n",
       "    </tr>\n",
       "    <tr>\n",
       "      <th>M</th>\n",
       "      <td>M0</td>\n",
       "    </tr>\n",
       "    <tr>\n",
       "      <th>Stage</th>\n",
       "      <td>I</td>\n",
       "    </tr>\n",
       "    <tr>\n",
       "      <th>Response</th>\n",
       "      <td>Indeterminate</td>\n",
       "    </tr>\n",
       "    <tr>\n",
       "      <th>Target</th>\n",
       "      <td>No</td>\n",
       "    </tr>\n",
       "  </tbody>\n",
       "</table>\n",
       "</div>"
      ],
      "text/plain": [
       "                                              0\n",
       "Age                                          27\n",
       "Gender                                        F\n",
       "Smoking                                      No\n",
       "HxSmoking                                    No\n",
       "HxRadiothreapy                               No\n",
       "ThyroidFunction                       Euthyroid\n",
       "PhysicalExamination  Single nodular goiter-left\n",
       "Adenopathy                                   No\n",
       "Pathology                        Micropapillary\n",
       "Focality                              Uni-Focal\n",
       "Risk                                        Low\n",
       "T                                           T1a\n",
       "N                                            N0\n",
       "M                                            M0\n",
       "Stage                                         I\n",
       "Response                          Indeterminate\n",
       "Target                                       No"
      ]
     },
     "execution_count": 67,
     "metadata": {},
     "output_type": "execute_result"
    }
   ],
   "source": [
    "df.head(1).T"
   ]
  },
  {
   "cell_type": "code",
   "execution_count": 68,
   "id": "39719ee5",
   "metadata": {},
   "outputs": [
    {
     "data": {
      "text/plain": [
       "Age\n",
       "31    22\n",
       "27    13\n",
       "40    12\n",
       "26    12\n",
       "28    12\n",
       "      ..\n",
       "79     1\n",
       "18     1\n",
       "69     1\n",
       "76     1\n",
       "78     1\n",
       "Name: count, Length: 65, dtype: int64"
      ]
     },
     "execution_count": 68,
     "metadata": {},
     "output_type": "execute_result"
    }
   ],
   "source": [
    "df['Age'].value_counts()"
   ]
  },
  {
   "cell_type": "code",
   "execution_count": 69,
   "id": "2f83ab38",
   "metadata": {},
   "outputs": [
    {
     "data": {
      "text/plain": [
       "Gender\n",
       "F    312\n",
       "M     71\n",
       "Name: count, dtype: int64"
      ]
     },
     "execution_count": 69,
     "metadata": {},
     "output_type": "execute_result"
    }
   ],
   "source": [
    "df['Gender'].value_counts()"
   ]
  },
  {
   "cell_type": "code",
   "execution_count": 70,
   "id": "4bfab1e5",
   "metadata": {},
   "outputs": [],
   "source": [
    "df['Gender'].replace({'F':0,'M':1},inplace=True)"
   ]
  },
  {
   "cell_type": "code",
   "execution_count": null,
   "id": "ad44c497",
   "metadata": {},
   "outputs": [],
   "source": []
  },
  {
   "cell_type": "code",
   "execution_count": 71,
   "id": "0cfde3ce",
   "metadata": {},
   "outputs": [
    {
     "data": {
      "text/plain": [
       "Smoking\n",
       "No     334\n",
       "Yes     49\n",
       "Name: count, dtype: int64"
      ]
     },
     "execution_count": 71,
     "metadata": {},
     "output_type": "execute_result"
    }
   ],
   "source": [
    "df['Smoking'].value_counts()"
   ]
  },
  {
   "cell_type": "code",
   "execution_count": 72,
   "id": "6c4e2b5c",
   "metadata": {},
   "outputs": [],
   "source": [
    "df['Smoking'].replace({'No':0,'Yes':1},inplace=True)"
   ]
  },
  {
   "cell_type": "code",
   "execution_count": 73,
   "id": "5831e383",
   "metadata": {},
   "outputs": [
    {
     "data": {
      "text/plain": [
       "HxSmoking\n",
       "No     355\n",
       "Yes     28\n",
       "Name: count, dtype: int64"
      ]
     },
     "execution_count": 73,
     "metadata": {},
     "output_type": "execute_result"
    }
   ],
   "source": [
    "df['HxSmoking'].value_counts()"
   ]
  },
  {
   "cell_type": "code",
   "execution_count": 74,
   "id": "0080fc7c",
   "metadata": {},
   "outputs": [],
   "source": [
    "df['HxSmoking'].replace({'No':0,'Yes':1},inplace=True)"
   ]
  },
  {
   "cell_type": "code",
   "execution_count": 75,
   "id": "00f58e08",
   "metadata": {},
   "outputs": [
    {
     "data": {
      "text/plain": [
       "HxRadiothreapy\n",
       "No     376\n",
       "Yes      7\n",
       "Name: count, dtype: int64"
      ]
     },
     "execution_count": 75,
     "metadata": {},
     "output_type": "execute_result"
    }
   ],
   "source": [
    "df['HxRadiothreapy'].value_counts()"
   ]
  },
  {
   "cell_type": "code",
   "execution_count": 76,
   "id": "321a975b",
   "metadata": {},
   "outputs": [],
   "source": [
    "df['HxRadiothreapy'].replace({'No':0,'Yes':1},inplace=True)"
   ]
  },
  {
   "cell_type": "code",
   "execution_count": 77,
   "id": "2e872c75",
   "metadata": {},
   "outputs": [
    {
     "data": {
      "text/plain": [
       "ThyroidFunction\n",
       "Euthyroid                      332\n",
       "Clinical Hyperthyroidism        20\n",
       "Subclinical Hypothyroidism      14\n",
       "Clinical Hypothyroidism         12\n",
       "Subclinical Hyperthyroidism      5\n",
       "Name: count, dtype: int64"
      ]
     },
     "execution_count": 77,
     "metadata": {},
     "output_type": "execute_result"
    }
   ],
   "source": [
    "df['ThyroidFunction'].value_counts()"
   ]
  },
  {
   "cell_type": "code",
   "execution_count": 78,
   "id": "f8e5c0c5",
   "metadata": {},
   "outputs": [],
   "source": [
    "df=pd.get_dummies(df, columns=['ThyroidFunction'], dtype=int)"
   ]
  },
  {
   "cell_type": "markdown",
   "id": "6fad8e9e",
   "metadata": {},
   "source": [
    "Age\t27\n",
    "Gender\tF\n",
    "Smoking\tNo\n",
    "HxSmoking\tNo\n",
    "HxRadiothreapy\tNo\n",
    "ThyroidFunction\tEuthyroid\n",
    "PhysicalExamination\tSingle nodular goiter-left\n",
    "Adenopathy\tNo\n",
    "Pathology\tMicropapillary\n",
    "Focality\tUni-Focal\n",
    "Risk\tLow\n",
    "T\tT1a\n",
    "N\tN0\n",
    "M\tM0\n",
    "Stage\tI\n",
    "Response\tIndeterminate\n",
    "Target\tNo"
   ]
  },
  {
   "cell_type": "code",
   "execution_count": 79,
   "id": "85e92b3c",
   "metadata": {},
   "outputs": [
    {
     "data": {
      "text/plain": [
       "PhysicalExamination\n",
       "Multinodular goiter            140\n",
       "Single nodular goiter-right    140\n",
       "Single nodular goiter-left      89\n",
       "Normal                           7\n",
       "Diffuse goiter                   7\n",
       "Name: count, dtype: int64"
      ]
     },
     "execution_count": 79,
     "metadata": {},
     "output_type": "execute_result"
    }
   ],
   "source": [
    "df['PhysicalExamination'].value_counts()"
   ]
  },
  {
   "cell_type": "code",
   "execution_count": 80,
   "id": "a80f6a24",
   "metadata": {},
   "outputs": [],
   "source": [
    "df=pd.get_dummies(df, columns=['PhysicalExamination'], dtype=int)"
   ]
  },
  {
   "cell_type": "code",
   "execution_count": 81,
   "id": "8c856c0f",
   "metadata": {},
   "outputs": [],
   "source": [
    "df=pd.get_dummies(df,columns=['Adenopathy'],dtype=int)"
   ]
  },
  {
   "cell_type": "code",
   "execution_count": 82,
   "id": "c317f1d4",
   "metadata": {},
   "outputs": [
    {
     "data": {
      "text/plain": [
       "Pathology\n",
       "Papillary         287\n",
       "Micropapillary     48\n",
       "Follicular         28\n",
       "Hurthel cell       20\n",
       "Name: count, dtype: int64"
      ]
     },
     "execution_count": 82,
     "metadata": {},
     "output_type": "execute_result"
    }
   ],
   "source": [
    "df['Pathology'].value_counts()"
   ]
  },
  {
   "cell_type": "code",
   "execution_count": 83,
   "id": "6d00fca0",
   "metadata": {},
   "outputs": [],
   "source": [
    "df=pd.get_dummies(df,columns=['Pathology'],dtype=int)"
   ]
  },
  {
   "cell_type": "code",
   "execution_count": 84,
   "id": "e2c0bea2",
   "metadata": {},
   "outputs": [
    {
     "data": {
      "text/plain": [
       "Focality\n",
       "Uni-Focal      247\n",
       "Multi-Focal    136\n",
       "Name: count, dtype: int64"
      ]
     },
     "execution_count": 84,
     "metadata": {},
     "output_type": "execute_result"
    }
   ],
   "source": [
    "df['Focality'].value_counts()"
   ]
  },
  {
   "cell_type": "code",
   "execution_count": 85,
   "id": "4a062103",
   "metadata": {},
   "outputs": [],
   "source": [
    "df['Focality'].replace({'Uni-Focal':0,'Multi-Focal':1},inplace=True)"
   ]
  },
  {
   "cell_type": "code",
   "execution_count": 86,
   "id": "d25774f2",
   "metadata": {},
   "outputs": [
    {
     "data": {
      "text/plain": [
       "Risk\n",
       "Low             249\n",
       "Intermediate    102\n",
       "High             32\n",
       "Name: count, dtype: int64"
      ]
     },
     "execution_count": 86,
     "metadata": {},
     "output_type": "execute_result"
    }
   ],
   "source": [
    "df['Risk'].value_counts()"
   ]
  },
  {
   "cell_type": "code",
   "execution_count": 87,
   "id": "f856bc99",
   "metadata": {},
   "outputs": [],
   "source": [
    "df['Risk'].replace({'Low':0,'Intermediate':1,'High':2},inplace=True)"
   ]
  },
  {
   "cell_type": "code",
   "execution_count": 88,
   "id": "ebab4a99",
   "metadata": {},
   "outputs": [
    {
     "data": {
      "text/plain": [
       "T\n",
       "T2     151\n",
       "T3a     96\n",
       "T1a     49\n",
       "T1b     43\n",
       "T4a     20\n",
       "T3b     16\n",
       "T4b      8\n",
       "Name: count, dtype: int64"
      ]
     },
     "execution_count": 88,
     "metadata": {},
     "output_type": "execute_result"
    }
   ],
   "source": [
    "df['T'].value_counts()"
   ]
  },
  {
   "cell_type": "code",
   "execution_count": 89,
   "id": "7684fe9b",
   "metadata": {},
   "outputs": [],
   "source": [
    "df=pd.get_dummies(df, columns=['T'], dtype=int)"
   ]
  },
  {
   "cell_type": "code",
   "execution_count": 90,
   "id": "db58bcd6",
   "metadata": {},
   "outputs": [
    {
     "data": {
      "text/plain": [
       "N\n",
       "N0     268\n",
       "N1b     93\n",
       "N1a     22\n",
       "Name: count, dtype: int64"
      ]
     },
     "execution_count": 90,
     "metadata": {},
     "output_type": "execute_result"
    }
   ],
   "source": [
    "df['N'].value_counts()"
   ]
  },
  {
   "cell_type": "code",
   "execution_count": 91,
   "id": "d0fe5416",
   "metadata": {},
   "outputs": [],
   "source": [
    "df['N'].replace({'N0':0,'N1a':1,'N1b':2},inplace=True)"
   ]
  },
  {
   "cell_type": "code",
   "execution_count": 92,
   "id": "1f375b12",
   "metadata": {},
   "outputs": [
    {
     "data": {
      "text/html": [
       "<div>\n",
       "<style scoped>\n",
       "    .dataframe tbody tr th:only-of-type {\n",
       "        vertical-align: middle;\n",
       "    }\n",
       "\n",
       "    .dataframe tbody tr th {\n",
       "        vertical-align: top;\n",
       "    }\n",
       "\n",
       "    .dataframe thead th {\n",
       "        text-align: right;\n",
       "    }\n",
       "</style>\n",
       "<table border=\"1\" class=\"dataframe\">\n",
       "  <thead>\n",
       "    <tr style=\"text-align: right;\">\n",
       "      <th></th>\n",
       "      <th>Age</th>\n",
       "      <th>Gender</th>\n",
       "      <th>Smoking</th>\n",
       "      <th>HxSmoking</th>\n",
       "      <th>HxRadiothreapy</th>\n",
       "      <th>Focality</th>\n",
       "      <th>Risk</th>\n",
       "      <th>N</th>\n",
       "      <th>M</th>\n",
       "      <th>Stage</th>\n",
       "      <th>...</th>\n",
       "      <th>Pathology_Hurthel cell</th>\n",
       "      <th>Pathology_Micropapillary</th>\n",
       "      <th>Pathology_Papillary</th>\n",
       "      <th>T_T1a</th>\n",
       "      <th>T_T1b</th>\n",
       "      <th>T_T2</th>\n",
       "      <th>T_T3a</th>\n",
       "      <th>T_T3b</th>\n",
       "      <th>T_T4a</th>\n",
       "      <th>T_T4b</th>\n",
       "    </tr>\n",
       "  </thead>\n",
       "  <tbody>\n",
       "    <tr>\n",
       "      <th>0</th>\n",
       "      <td>27</td>\n",
       "      <td>0</td>\n",
       "      <td>0</td>\n",
       "      <td>0</td>\n",
       "      <td>0</td>\n",
       "      <td>0</td>\n",
       "      <td>0</td>\n",
       "      <td>0</td>\n",
       "      <td>M0</td>\n",
       "      <td>I</td>\n",
       "      <td>...</td>\n",
       "      <td>0</td>\n",
       "      <td>1</td>\n",
       "      <td>0</td>\n",
       "      <td>1</td>\n",
       "      <td>0</td>\n",
       "      <td>0</td>\n",
       "      <td>0</td>\n",
       "      <td>0</td>\n",
       "      <td>0</td>\n",
       "      <td>0</td>\n",
       "    </tr>\n",
       "    <tr>\n",
       "      <th>1</th>\n",
       "      <td>34</td>\n",
       "      <td>0</td>\n",
       "      <td>0</td>\n",
       "      <td>1</td>\n",
       "      <td>0</td>\n",
       "      <td>0</td>\n",
       "      <td>0</td>\n",
       "      <td>0</td>\n",
       "      <td>M0</td>\n",
       "      <td>I</td>\n",
       "      <td>...</td>\n",
       "      <td>0</td>\n",
       "      <td>1</td>\n",
       "      <td>0</td>\n",
       "      <td>1</td>\n",
       "      <td>0</td>\n",
       "      <td>0</td>\n",
       "      <td>0</td>\n",
       "      <td>0</td>\n",
       "      <td>0</td>\n",
       "      <td>0</td>\n",
       "    </tr>\n",
       "    <tr>\n",
       "      <th>2</th>\n",
       "      <td>30</td>\n",
       "      <td>0</td>\n",
       "      <td>0</td>\n",
       "      <td>0</td>\n",
       "      <td>0</td>\n",
       "      <td>0</td>\n",
       "      <td>0</td>\n",
       "      <td>0</td>\n",
       "      <td>M0</td>\n",
       "      <td>I</td>\n",
       "      <td>...</td>\n",
       "      <td>0</td>\n",
       "      <td>1</td>\n",
       "      <td>0</td>\n",
       "      <td>1</td>\n",
       "      <td>0</td>\n",
       "      <td>0</td>\n",
       "      <td>0</td>\n",
       "      <td>0</td>\n",
       "      <td>0</td>\n",
       "      <td>0</td>\n",
       "    </tr>\n",
       "    <tr>\n",
       "      <th>3</th>\n",
       "      <td>62</td>\n",
       "      <td>0</td>\n",
       "      <td>0</td>\n",
       "      <td>0</td>\n",
       "      <td>0</td>\n",
       "      <td>0</td>\n",
       "      <td>0</td>\n",
       "      <td>0</td>\n",
       "      <td>M0</td>\n",
       "      <td>I</td>\n",
       "      <td>...</td>\n",
       "      <td>0</td>\n",
       "      <td>1</td>\n",
       "      <td>0</td>\n",
       "      <td>1</td>\n",
       "      <td>0</td>\n",
       "      <td>0</td>\n",
       "      <td>0</td>\n",
       "      <td>0</td>\n",
       "      <td>0</td>\n",
       "      <td>0</td>\n",
       "    </tr>\n",
       "    <tr>\n",
       "      <th>4</th>\n",
       "      <td>62</td>\n",
       "      <td>0</td>\n",
       "      <td>0</td>\n",
       "      <td>0</td>\n",
       "      <td>0</td>\n",
       "      <td>1</td>\n",
       "      <td>0</td>\n",
       "      <td>0</td>\n",
       "      <td>M0</td>\n",
       "      <td>I</td>\n",
       "      <td>...</td>\n",
       "      <td>0</td>\n",
       "      <td>1</td>\n",
       "      <td>0</td>\n",
       "      <td>1</td>\n",
       "      <td>0</td>\n",
       "      <td>0</td>\n",
       "      <td>0</td>\n",
       "      <td>0</td>\n",
       "      <td>0</td>\n",
       "      <td>0</td>\n",
       "    </tr>\n",
       "    <tr>\n",
       "      <th>...</th>\n",
       "      <td>...</td>\n",
       "      <td>...</td>\n",
       "      <td>...</td>\n",
       "      <td>...</td>\n",
       "      <td>...</td>\n",
       "      <td>...</td>\n",
       "      <td>...</td>\n",
       "      <td>...</td>\n",
       "      <td>...</td>\n",
       "      <td>...</td>\n",
       "      <td>...</td>\n",
       "      <td>...</td>\n",
       "      <td>...</td>\n",
       "      <td>...</td>\n",
       "      <td>...</td>\n",
       "      <td>...</td>\n",
       "      <td>...</td>\n",
       "      <td>...</td>\n",
       "      <td>...</td>\n",
       "      <td>...</td>\n",
       "      <td>...</td>\n",
       "    </tr>\n",
       "    <tr>\n",
       "      <th>378</th>\n",
       "      <td>72</td>\n",
       "      <td>1</td>\n",
       "      <td>1</td>\n",
       "      <td>1</td>\n",
       "      <td>1</td>\n",
       "      <td>0</td>\n",
       "      <td>2</td>\n",
       "      <td>2</td>\n",
       "      <td>M1</td>\n",
       "      <td>IVB</td>\n",
       "      <td>...</td>\n",
       "      <td>0</td>\n",
       "      <td>0</td>\n",
       "      <td>1</td>\n",
       "      <td>0</td>\n",
       "      <td>0</td>\n",
       "      <td>0</td>\n",
       "      <td>0</td>\n",
       "      <td>0</td>\n",
       "      <td>0</td>\n",
       "      <td>1</td>\n",
       "    </tr>\n",
       "    <tr>\n",
       "      <th>379</th>\n",
       "      <td>81</td>\n",
       "      <td>1</td>\n",
       "      <td>1</td>\n",
       "      <td>0</td>\n",
       "      <td>1</td>\n",
       "      <td>1</td>\n",
       "      <td>2</td>\n",
       "      <td>2</td>\n",
       "      <td>M1</td>\n",
       "      <td>IVB</td>\n",
       "      <td>...</td>\n",
       "      <td>0</td>\n",
       "      <td>0</td>\n",
       "      <td>1</td>\n",
       "      <td>0</td>\n",
       "      <td>0</td>\n",
       "      <td>0</td>\n",
       "      <td>0</td>\n",
       "      <td>0</td>\n",
       "      <td>0</td>\n",
       "      <td>1</td>\n",
       "    </tr>\n",
       "    <tr>\n",
       "      <th>380</th>\n",
       "      <td>72</td>\n",
       "      <td>1</td>\n",
       "      <td>1</td>\n",
       "      <td>1</td>\n",
       "      <td>0</td>\n",
       "      <td>1</td>\n",
       "      <td>2</td>\n",
       "      <td>2</td>\n",
       "      <td>M1</td>\n",
       "      <td>IVB</td>\n",
       "      <td>...</td>\n",
       "      <td>0</td>\n",
       "      <td>0</td>\n",
       "      <td>1</td>\n",
       "      <td>0</td>\n",
       "      <td>0</td>\n",
       "      <td>0</td>\n",
       "      <td>0</td>\n",
       "      <td>0</td>\n",
       "      <td>0</td>\n",
       "      <td>1</td>\n",
       "    </tr>\n",
       "    <tr>\n",
       "      <th>381</th>\n",
       "      <td>61</td>\n",
       "      <td>1</td>\n",
       "      <td>1</td>\n",
       "      <td>1</td>\n",
       "      <td>1</td>\n",
       "      <td>1</td>\n",
       "      <td>2</td>\n",
       "      <td>2</td>\n",
       "      <td>M0</td>\n",
       "      <td>IVA</td>\n",
       "      <td>...</td>\n",
       "      <td>1</td>\n",
       "      <td>0</td>\n",
       "      <td>0</td>\n",
       "      <td>0</td>\n",
       "      <td>0</td>\n",
       "      <td>0</td>\n",
       "      <td>0</td>\n",
       "      <td>0</td>\n",
       "      <td>0</td>\n",
       "      <td>1</td>\n",
       "    </tr>\n",
       "    <tr>\n",
       "      <th>382</th>\n",
       "      <td>67</td>\n",
       "      <td>1</td>\n",
       "      <td>1</td>\n",
       "      <td>0</td>\n",
       "      <td>0</td>\n",
       "      <td>1</td>\n",
       "      <td>2</td>\n",
       "      <td>2</td>\n",
       "      <td>M0</td>\n",
       "      <td>IVA</td>\n",
       "      <td>...</td>\n",
       "      <td>0</td>\n",
       "      <td>0</td>\n",
       "      <td>1</td>\n",
       "      <td>0</td>\n",
       "      <td>0</td>\n",
       "      <td>0</td>\n",
       "      <td>0</td>\n",
       "      <td>0</td>\n",
       "      <td>0</td>\n",
       "      <td>1</td>\n",
       "    </tr>\n",
       "  </tbody>\n",
       "</table>\n",
       "<p>383 rows × 39 columns</p>\n",
       "</div>"
      ],
      "text/plain": [
       "     Age  Gender  Smoking  HxSmoking  HxRadiothreapy  Focality  Risk  N   M  \\\n",
       "0     27       0        0          0               0         0     0  0  M0   \n",
       "1     34       0        0          1               0         0     0  0  M0   \n",
       "2     30       0        0          0               0         0     0  0  M0   \n",
       "3     62       0        0          0               0         0     0  0  M0   \n",
       "4     62       0        0          0               0         1     0  0  M0   \n",
       "..   ...     ...      ...        ...             ...       ...   ... ..  ..   \n",
       "378   72       1        1          1               1         0     2  2  M1   \n",
       "379   81       1        1          0               1         1     2  2  M1   \n",
       "380   72       1        1          1               0         1     2  2  M1   \n",
       "381   61       1        1          1               1         1     2  2  M0   \n",
       "382   67       1        1          0               0         1     2  2  M0   \n",
       "\n",
       "    Stage  ... Pathology_Hurthel cell Pathology_Micropapillary  \\\n",
       "0       I  ...                      0                        1   \n",
       "1       I  ...                      0                        1   \n",
       "2       I  ...                      0                        1   \n",
       "3       I  ...                      0                        1   \n",
       "4       I  ...                      0                        1   \n",
       "..    ...  ...                    ...                      ...   \n",
       "378   IVB  ...                      0                        0   \n",
       "379   IVB  ...                      0                        0   \n",
       "380   IVB  ...                      0                        0   \n",
       "381   IVA  ...                      1                        0   \n",
       "382   IVA  ...                      0                        0   \n",
       "\n",
       "     Pathology_Papillary  T_T1a  T_T1b  T_T2  T_T3a  T_T3b  T_T4a  T_T4b  \n",
       "0                      0      1      0     0      0      0      0      0  \n",
       "1                      0      1      0     0      0      0      0      0  \n",
       "2                      0      1      0     0      0      0      0      0  \n",
       "3                      0      1      0     0      0      0      0      0  \n",
       "4                      0      1      0     0      0      0      0      0  \n",
       "..                   ...    ...    ...   ...    ...    ...    ...    ...  \n",
       "378                    1      0      0     0      0      0      0      1  \n",
       "379                    1      0      0     0      0      0      0      1  \n",
       "380                    1      0      0     0      0      0      0      1  \n",
       "381                    0      0      0     0      0      0      0      1  \n",
       "382                    1      0      0     0      0      0      0      1  \n",
       "\n",
       "[383 rows x 39 columns]"
      ]
     },
     "execution_count": 92,
     "metadata": {},
     "output_type": "execute_result"
    }
   ],
   "source": [
    "df"
   ]
  },
  {
   "cell_type": "code",
   "execution_count": 93,
   "id": "d2b92232",
   "metadata": {},
   "outputs": [
    {
     "data": {
      "text/plain": [
       "M\n",
       "M0    365\n",
       "M1     18\n",
       "Name: count, dtype: int64"
      ]
     },
     "execution_count": 93,
     "metadata": {},
     "output_type": "execute_result"
    }
   ],
   "source": [
    "df['M'].value_counts()"
   ]
  },
  {
   "cell_type": "code",
   "execution_count": 94,
   "id": "6f61a2ac",
   "metadata": {},
   "outputs": [],
   "source": [
    "df['M'].replace({'M0':0,'M1':1},inplace=True)"
   ]
  },
  {
   "cell_type": "code",
   "execution_count": 95,
   "id": "0ee69d13",
   "metadata": {},
   "outputs": [
    {
     "data": {
      "text/plain": [
       "Stage\n",
       "I      333\n",
       "II      32\n",
       "IVB     11\n",
       "III      4\n",
       "IVA      3\n",
       "Name: count, dtype: int64"
      ]
     },
     "execution_count": 95,
     "metadata": {},
     "output_type": "execute_result"
    }
   ],
   "source": [
    "df['Stage'].value_counts()"
   ]
  },
  {
   "cell_type": "code",
   "execution_count": 96,
   "id": "bc55dd7e",
   "metadata": {},
   "outputs": [],
   "source": [
    "df['Stage'].replace({'I':1,'II':2,'IVA':3,'IVB':4,'III':5},inplace=True)"
   ]
  },
  {
   "cell_type": "code",
   "execution_count": 99,
   "id": "b56a0301",
   "metadata": {},
   "outputs": [
    {
     "data": {
      "text/plain": [
       "Response\n",
       "1    208\n",
       "2     91\n",
       "3     61\n",
       "4     23\n",
       "Name: count, dtype: int64"
      ]
     },
     "execution_count": 99,
     "metadata": {},
     "output_type": "execute_result"
    }
   ],
   "source": [
    "df['Response'].value_counts()"
   ]
  },
  {
   "cell_type": "code",
   "execution_count": 98,
   "id": "b176bfe6",
   "metadata": {},
   "outputs": [],
   "source": [
    "df['Response'].replace({'Excellent':1,'Structural Incomplete':2,'Indeterminate':3,'Biochemical Incomplete':4},inplace=True)"
   ]
  },
  {
   "cell_type": "code",
   "execution_count": 100,
   "id": "988e4461",
   "metadata": {},
   "outputs": [
    {
     "data": {
      "text/html": [
       "<div>\n",
       "<style scoped>\n",
       "    .dataframe tbody tr th:only-of-type {\n",
       "        vertical-align: middle;\n",
       "    }\n",
       "\n",
       "    .dataframe tbody tr th {\n",
       "        vertical-align: top;\n",
       "    }\n",
       "\n",
       "    .dataframe thead th {\n",
       "        text-align: right;\n",
       "    }\n",
       "</style>\n",
       "<table border=\"1\" class=\"dataframe\">\n",
       "  <thead>\n",
       "    <tr style=\"text-align: right;\">\n",
       "      <th></th>\n",
       "      <th>Age</th>\n",
       "      <th>Gender</th>\n",
       "      <th>Smoking</th>\n",
       "      <th>HxSmoking</th>\n",
       "      <th>HxRadiothreapy</th>\n",
       "      <th>Focality</th>\n",
       "      <th>Risk</th>\n",
       "      <th>N</th>\n",
       "      <th>M</th>\n",
       "      <th>Stage</th>\n",
       "      <th>...</th>\n",
       "      <th>Pathology_Hurthel cell</th>\n",
       "      <th>Pathology_Micropapillary</th>\n",
       "      <th>Pathology_Papillary</th>\n",
       "      <th>T_T1a</th>\n",
       "      <th>T_T1b</th>\n",
       "      <th>T_T2</th>\n",
       "      <th>T_T3a</th>\n",
       "      <th>T_T3b</th>\n",
       "      <th>T_T4a</th>\n",
       "      <th>T_T4b</th>\n",
       "    </tr>\n",
       "  </thead>\n",
       "  <tbody>\n",
       "    <tr>\n",
       "      <th>0</th>\n",
       "      <td>27</td>\n",
       "      <td>0</td>\n",
       "      <td>0</td>\n",
       "      <td>0</td>\n",
       "      <td>0</td>\n",
       "      <td>0</td>\n",
       "      <td>0</td>\n",
       "      <td>0</td>\n",
       "      <td>0</td>\n",
       "      <td>1</td>\n",
       "      <td>...</td>\n",
       "      <td>0</td>\n",
       "      <td>1</td>\n",
       "      <td>0</td>\n",
       "      <td>1</td>\n",
       "      <td>0</td>\n",
       "      <td>0</td>\n",
       "      <td>0</td>\n",
       "      <td>0</td>\n",
       "      <td>0</td>\n",
       "      <td>0</td>\n",
       "    </tr>\n",
       "    <tr>\n",
       "      <th>1</th>\n",
       "      <td>34</td>\n",
       "      <td>0</td>\n",
       "      <td>0</td>\n",
       "      <td>1</td>\n",
       "      <td>0</td>\n",
       "      <td>0</td>\n",
       "      <td>0</td>\n",
       "      <td>0</td>\n",
       "      <td>0</td>\n",
       "      <td>1</td>\n",
       "      <td>...</td>\n",
       "      <td>0</td>\n",
       "      <td>1</td>\n",
       "      <td>0</td>\n",
       "      <td>1</td>\n",
       "      <td>0</td>\n",
       "      <td>0</td>\n",
       "      <td>0</td>\n",
       "      <td>0</td>\n",
       "      <td>0</td>\n",
       "      <td>0</td>\n",
       "    </tr>\n",
       "    <tr>\n",
       "      <th>2</th>\n",
       "      <td>30</td>\n",
       "      <td>0</td>\n",
       "      <td>0</td>\n",
       "      <td>0</td>\n",
       "      <td>0</td>\n",
       "      <td>0</td>\n",
       "      <td>0</td>\n",
       "      <td>0</td>\n",
       "      <td>0</td>\n",
       "      <td>1</td>\n",
       "      <td>...</td>\n",
       "      <td>0</td>\n",
       "      <td>1</td>\n",
       "      <td>0</td>\n",
       "      <td>1</td>\n",
       "      <td>0</td>\n",
       "      <td>0</td>\n",
       "      <td>0</td>\n",
       "      <td>0</td>\n",
       "      <td>0</td>\n",
       "      <td>0</td>\n",
       "    </tr>\n",
       "    <tr>\n",
       "      <th>3</th>\n",
       "      <td>62</td>\n",
       "      <td>0</td>\n",
       "      <td>0</td>\n",
       "      <td>0</td>\n",
       "      <td>0</td>\n",
       "      <td>0</td>\n",
       "      <td>0</td>\n",
       "      <td>0</td>\n",
       "      <td>0</td>\n",
       "      <td>1</td>\n",
       "      <td>...</td>\n",
       "      <td>0</td>\n",
       "      <td>1</td>\n",
       "      <td>0</td>\n",
       "      <td>1</td>\n",
       "      <td>0</td>\n",
       "      <td>0</td>\n",
       "      <td>0</td>\n",
       "      <td>0</td>\n",
       "      <td>0</td>\n",
       "      <td>0</td>\n",
       "    </tr>\n",
       "    <tr>\n",
       "      <th>4</th>\n",
       "      <td>62</td>\n",
       "      <td>0</td>\n",
       "      <td>0</td>\n",
       "      <td>0</td>\n",
       "      <td>0</td>\n",
       "      <td>1</td>\n",
       "      <td>0</td>\n",
       "      <td>0</td>\n",
       "      <td>0</td>\n",
       "      <td>1</td>\n",
       "      <td>...</td>\n",
       "      <td>0</td>\n",
       "      <td>1</td>\n",
       "      <td>0</td>\n",
       "      <td>1</td>\n",
       "      <td>0</td>\n",
       "      <td>0</td>\n",
       "      <td>0</td>\n",
       "      <td>0</td>\n",
       "      <td>0</td>\n",
       "      <td>0</td>\n",
       "    </tr>\n",
       "    <tr>\n",
       "      <th>...</th>\n",
       "      <td>...</td>\n",
       "      <td>...</td>\n",
       "      <td>...</td>\n",
       "      <td>...</td>\n",
       "      <td>...</td>\n",
       "      <td>...</td>\n",
       "      <td>...</td>\n",
       "      <td>...</td>\n",
       "      <td>...</td>\n",
       "      <td>...</td>\n",
       "      <td>...</td>\n",
       "      <td>...</td>\n",
       "      <td>...</td>\n",
       "      <td>...</td>\n",
       "      <td>...</td>\n",
       "      <td>...</td>\n",
       "      <td>...</td>\n",
       "      <td>...</td>\n",
       "      <td>...</td>\n",
       "      <td>...</td>\n",
       "      <td>...</td>\n",
       "    </tr>\n",
       "    <tr>\n",
       "      <th>378</th>\n",
       "      <td>72</td>\n",
       "      <td>1</td>\n",
       "      <td>1</td>\n",
       "      <td>1</td>\n",
       "      <td>1</td>\n",
       "      <td>0</td>\n",
       "      <td>2</td>\n",
       "      <td>2</td>\n",
       "      <td>1</td>\n",
       "      <td>4</td>\n",
       "      <td>...</td>\n",
       "      <td>0</td>\n",
       "      <td>0</td>\n",
       "      <td>1</td>\n",
       "      <td>0</td>\n",
       "      <td>0</td>\n",
       "      <td>0</td>\n",
       "      <td>0</td>\n",
       "      <td>0</td>\n",
       "      <td>0</td>\n",
       "      <td>1</td>\n",
       "    </tr>\n",
       "    <tr>\n",
       "      <th>379</th>\n",
       "      <td>81</td>\n",
       "      <td>1</td>\n",
       "      <td>1</td>\n",
       "      <td>0</td>\n",
       "      <td>1</td>\n",
       "      <td>1</td>\n",
       "      <td>2</td>\n",
       "      <td>2</td>\n",
       "      <td>1</td>\n",
       "      <td>4</td>\n",
       "      <td>...</td>\n",
       "      <td>0</td>\n",
       "      <td>0</td>\n",
       "      <td>1</td>\n",
       "      <td>0</td>\n",
       "      <td>0</td>\n",
       "      <td>0</td>\n",
       "      <td>0</td>\n",
       "      <td>0</td>\n",
       "      <td>0</td>\n",
       "      <td>1</td>\n",
       "    </tr>\n",
       "    <tr>\n",
       "      <th>380</th>\n",
       "      <td>72</td>\n",
       "      <td>1</td>\n",
       "      <td>1</td>\n",
       "      <td>1</td>\n",
       "      <td>0</td>\n",
       "      <td>1</td>\n",
       "      <td>2</td>\n",
       "      <td>2</td>\n",
       "      <td>1</td>\n",
       "      <td>4</td>\n",
       "      <td>...</td>\n",
       "      <td>0</td>\n",
       "      <td>0</td>\n",
       "      <td>1</td>\n",
       "      <td>0</td>\n",
       "      <td>0</td>\n",
       "      <td>0</td>\n",
       "      <td>0</td>\n",
       "      <td>0</td>\n",
       "      <td>0</td>\n",
       "      <td>1</td>\n",
       "    </tr>\n",
       "    <tr>\n",
       "      <th>381</th>\n",
       "      <td>61</td>\n",
       "      <td>1</td>\n",
       "      <td>1</td>\n",
       "      <td>1</td>\n",
       "      <td>1</td>\n",
       "      <td>1</td>\n",
       "      <td>2</td>\n",
       "      <td>2</td>\n",
       "      <td>0</td>\n",
       "      <td>3</td>\n",
       "      <td>...</td>\n",
       "      <td>1</td>\n",
       "      <td>0</td>\n",
       "      <td>0</td>\n",
       "      <td>0</td>\n",
       "      <td>0</td>\n",
       "      <td>0</td>\n",
       "      <td>0</td>\n",
       "      <td>0</td>\n",
       "      <td>0</td>\n",
       "      <td>1</td>\n",
       "    </tr>\n",
       "    <tr>\n",
       "      <th>382</th>\n",
       "      <td>67</td>\n",
       "      <td>1</td>\n",
       "      <td>1</td>\n",
       "      <td>0</td>\n",
       "      <td>0</td>\n",
       "      <td>1</td>\n",
       "      <td>2</td>\n",
       "      <td>2</td>\n",
       "      <td>0</td>\n",
       "      <td>3</td>\n",
       "      <td>...</td>\n",
       "      <td>0</td>\n",
       "      <td>0</td>\n",
       "      <td>1</td>\n",
       "      <td>0</td>\n",
       "      <td>0</td>\n",
       "      <td>0</td>\n",
       "      <td>0</td>\n",
       "      <td>0</td>\n",
       "      <td>0</td>\n",
       "      <td>1</td>\n",
       "    </tr>\n",
       "  </tbody>\n",
       "</table>\n",
       "<p>383 rows × 39 columns</p>\n",
       "</div>"
      ],
      "text/plain": [
       "     Age  Gender  Smoking  HxSmoking  HxRadiothreapy  Focality  Risk  N  M  \\\n",
       "0     27       0        0          0               0         0     0  0  0   \n",
       "1     34       0        0          1               0         0     0  0  0   \n",
       "2     30       0        0          0               0         0     0  0  0   \n",
       "3     62       0        0          0               0         0     0  0  0   \n",
       "4     62       0        0          0               0         1     0  0  0   \n",
       "..   ...     ...      ...        ...             ...       ...   ... .. ..   \n",
       "378   72       1        1          1               1         0     2  2  1   \n",
       "379   81       1        1          0               1         1     2  2  1   \n",
       "380   72       1        1          1               0         1     2  2  1   \n",
       "381   61       1        1          1               1         1     2  2  0   \n",
       "382   67       1        1          0               0         1     2  2  0   \n",
       "\n",
       "     Stage  ...  Pathology_Hurthel cell Pathology_Micropapillary  \\\n",
       "0        1  ...                       0                        1   \n",
       "1        1  ...                       0                        1   \n",
       "2        1  ...                       0                        1   \n",
       "3        1  ...                       0                        1   \n",
       "4        1  ...                       0                        1   \n",
       "..     ...  ...                     ...                      ...   \n",
       "378      4  ...                       0                        0   \n",
       "379      4  ...                       0                        0   \n",
       "380      4  ...                       0                        0   \n",
       "381      3  ...                       1                        0   \n",
       "382      3  ...                       0                        0   \n",
       "\n",
       "     Pathology_Papillary  T_T1a  T_T1b  T_T2  T_T3a  T_T3b  T_T4a  T_T4b  \n",
       "0                      0      1      0     0      0      0      0      0  \n",
       "1                      0      1      0     0      0      0      0      0  \n",
       "2                      0      1      0     0      0      0      0      0  \n",
       "3                      0      1      0     0      0      0      0      0  \n",
       "4                      0      1      0     0      0      0      0      0  \n",
       "..                   ...    ...    ...   ...    ...    ...    ...    ...  \n",
       "378                    1      0      0     0      0      0      0      1  \n",
       "379                    1      0      0     0      0      0      0      1  \n",
       "380                    1      0      0     0      0      0      0      1  \n",
       "381                    0      0      0     0      0      0      0      1  \n",
       "382                    1      0      0     0      0      0      0      1  \n",
       "\n",
       "[383 rows x 39 columns]"
      ]
     },
     "execution_count": 100,
     "metadata": {},
     "output_type": "execute_result"
    }
   ],
   "source": [
    "df"
   ]
  },
  {
   "cell_type": "raw",
   "id": "9b0d4fd9",
   "metadata": {},
   "source": []
  },
  {
   "cell_type": "code",
   "execution_count": 101,
   "id": "7cbabb3c",
   "metadata": {},
   "outputs": [
    {
     "name": "stdout",
     "output_type": "stream",
     "text": [
      "<class 'pandas.core.frame.DataFrame'>\n",
      "RangeIndex: 383 entries, 0 to 382\n",
      "Data columns (total 39 columns):\n",
      " #   Column                                           Non-Null Count  Dtype \n",
      "---  ------                                           --------------  ----- \n",
      " 0   Age                                              383 non-null    int64 \n",
      " 1   Gender                                           383 non-null    int64 \n",
      " 2   Smoking                                          383 non-null    int64 \n",
      " 3   HxSmoking                                        383 non-null    int64 \n",
      " 4   HxRadiothreapy                                   383 non-null    int64 \n",
      " 5   Focality                                         383 non-null    int64 \n",
      " 6   Risk                                             383 non-null    int64 \n",
      " 7   N                                                383 non-null    int64 \n",
      " 8   M                                                383 non-null    int64 \n",
      " 9   Stage                                            383 non-null    int64 \n",
      " 10  Response                                         383 non-null    int64 \n",
      " 11  Target                                           383 non-null    object\n",
      " 12  ThyroidFunction_Clinical Hyperthyroidism         383 non-null    int32 \n",
      " 13  ThyroidFunction_Clinical Hypothyroidism          383 non-null    int32 \n",
      " 14  ThyroidFunction_Euthyroid                        383 non-null    int32 \n",
      " 15  ThyroidFunction_Subclinical Hyperthyroidism      383 non-null    int32 \n",
      " 16  ThyroidFunction_Subclinical Hypothyroidism       383 non-null    int32 \n",
      " 17  PhysicalExamination_Diffuse goiter               383 non-null    int32 \n",
      " 18  PhysicalExamination_Multinodular goiter          383 non-null    int32 \n",
      " 19  PhysicalExamination_Normal                       383 non-null    int32 \n",
      " 20  PhysicalExamination_Single nodular goiter-left   383 non-null    int32 \n",
      " 21  PhysicalExamination_Single nodular goiter-right  383 non-null    int32 \n",
      " 22  Adenopathy_Bilateral                             383 non-null    int32 \n",
      " 23  Adenopathy_Extensive                             383 non-null    int32 \n",
      " 24  Adenopathy_Left                                  383 non-null    int32 \n",
      " 25  Adenopathy_No                                    383 non-null    int32 \n",
      " 26  Adenopathy_Posterior                             383 non-null    int32 \n",
      " 27  Adenopathy_Right                                 383 non-null    int32 \n",
      " 28  Pathology_Follicular                             383 non-null    int32 \n",
      " 29  Pathology_Hurthel cell                           383 non-null    int32 \n",
      " 30  Pathology_Micropapillary                         383 non-null    int32 \n",
      " 31  Pathology_Papillary                              383 non-null    int32 \n",
      " 32  T_T1a                                            383 non-null    int32 \n",
      " 33  T_T1b                                            383 non-null    int32 \n",
      " 34  T_T2                                             383 non-null    int32 \n",
      " 35  T_T3a                                            383 non-null    int32 \n",
      " 36  T_T3b                                            383 non-null    int32 \n",
      " 37  T_T4a                                            383 non-null    int32 \n",
      " 38  T_T4b                                            383 non-null    int32 \n",
      "dtypes: int32(27), int64(11), object(1)\n",
      "memory usage: 76.4+ KB\n"
     ]
    }
   ],
   "source": [
    "df.info()"
   ]
  },
  {
   "cell_type": "code",
   "execution_count": 102,
   "id": "86a752f2",
   "metadata": {},
   "outputs": [],
   "source": [
    "x=df.drop('Target',axis=1)\n",
    "y=df['Target']"
   ]
  },
  {
   "cell_type": "code",
   "execution_count": 103,
   "id": "cc18431a",
   "metadata": {},
   "outputs": [],
   "source": [
    "x_train,x_test,y_train,y_test=train_test_split(x,y,test_size=0.2,random_state=2,stratify=y)"
   ]
  },
  {
   "cell_type": "code",
   "execution_count": null,
   "id": "0e2f2c43",
   "metadata": {},
   "outputs": [],
   "source": []
  },
  {
   "cell_type": "code",
   "execution_count": 104,
   "id": "977cd65b",
   "metadata": {},
   "outputs": [
    {
     "data": {
      "text/html": [
       "<style>#sk-container-id-2 {color: black;}#sk-container-id-2 pre{padding: 0;}#sk-container-id-2 div.sk-toggleable {background-color: white;}#sk-container-id-2 label.sk-toggleable__label {cursor: pointer;display: block;width: 100%;margin-bottom: 0;padding: 0.3em;box-sizing: border-box;text-align: center;}#sk-container-id-2 label.sk-toggleable__label-arrow:before {content: \"▸\";float: left;margin-right: 0.25em;color: #696969;}#sk-container-id-2 label.sk-toggleable__label-arrow:hover:before {color: black;}#sk-container-id-2 div.sk-estimator:hover label.sk-toggleable__label-arrow:before {color: black;}#sk-container-id-2 div.sk-toggleable__content {max-height: 0;max-width: 0;overflow: hidden;text-align: left;background-color: #f0f8ff;}#sk-container-id-2 div.sk-toggleable__content pre {margin: 0.2em;color: black;border-radius: 0.25em;background-color: #f0f8ff;}#sk-container-id-2 input.sk-toggleable__control:checked~div.sk-toggleable__content {max-height: 200px;max-width: 100%;overflow: auto;}#sk-container-id-2 input.sk-toggleable__control:checked~label.sk-toggleable__label-arrow:before {content: \"▾\";}#sk-container-id-2 div.sk-estimator input.sk-toggleable__control:checked~label.sk-toggleable__label {background-color: #d4ebff;}#sk-container-id-2 div.sk-label input.sk-toggleable__control:checked~label.sk-toggleable__label {background-color: #d4ebff;}#sk-container-id-2 input.sk-hidden--visually {border: 0;clip: rect(1px 1px 1px 1px);clip: rect(1px, 1px, 1px, 1px);height: 1px;margin: -1px;overflow: hidden;padding: 0;position: absolute;width: 1px;}#sk-container-id-2 div.sk-estimator {font-family: monospace;background-color: #f0f8ff;border: 1px dotted black;border-radius: 0.25em;box-sizing: border-box;margin-bottom: 0.5em;}#sk-container-id-2 div.sk-estimator:hover {background-color: #d4ebff;}#sk-container-id-2 div.sk-parallel-item::after {content: \"\";width: 100%;border-bottom: 1px solid gray;flex-grow: 1;}#sk-container-id-2 div.sk-label:hover label.sk-toggleable__label {background-color: #d4ebff;}#sk-container-id-2 div.sk-serial::before {content: \"\";position: absolute;border-left: 1px solid gray;box-sizing: border-box;top: 0;bottom: 0;left: 50%;z-index: 0;}#sk-container-id-2 div.sk-serial {display: flex;flex-direction: column;align-items: center;background-color: white;padding-right: 0.2em;padding-left: 0.2em;position: relative;}#sk-container-id-2 div.sk-item {position: relative;z-index: 1;}#sk-container-id-2 div.sk-parallel {display: flex;align-items: stretch;justify-content: center;background-color: white;position: relative;}#sk-container-id-2 div.sk-item::before, #sk-container-id-2 div.sk-parallel-item::before {content: \"\";position: absolute;border-left: 1px solid gray;box-sizing: border-box;top: 0;bottom: 0;left: 50%;z-index: -1;}#sk-container-id-2 div.sk-parallel-item {display: flex;flex-direction: column;z-index: 1;position: relative;background-color: white;}#sk-container-id-2 div.sk-parallel-item:first-child::after {align-self: flex-end;width: 50%;}#sk-container-id-2 div.sk-parallel-item:last-child::after {align-self: flex-start;width: 50%;}#sk-container-id-2 div.sk-parallel-item:only-child::after {width: 0;}#sk-container-id-2 div.sk-dashed-wrapped {border: 1px dashed gray;margin: 0 0.4em 0.5em 0.4em;box-sizing: border-box;padding-bottom: 0.4em;background-color: white;}#sk-container-id-2 div.sk-label label {font-family: monospace;font-weight: bold;display: inline-block;line-height: 1.2em;}#sk-container-id-2 div.sk-label-container {text-align: center;}#sk-container-id-2 div.sk-container {/* jupyter's `normalize.less` sets `[hidden] { display: none; }` but bootstrap.min.css set `[hidden] { display: none !important; }` so we also need the `!important` here to be able to override the default hidden behavior on the sphinx rendered scikit-learn.org. See: https://github.com/scikit-learn/scikit-learn/issues/21755 */display: inline-block !important;position: relative;}#sk-container-id-2 div.sk-text-repr-fallback {display: none;}</style><div id=\"sk-container-id-2\" class=\"sk-top-container\"><div class=\"sk-text-repr-fallback\"><pre>LogisticRegression()</pre><b>In a Jupyter environment, please rerun this cell to show the HTML representation or trust the notebook. <br />On GitHub, the HTML representation is unable to render, please try loading this page with nbviewer.org.</b></div><div class=\"sk-container\" hidden><div class=\"sk-item\"><div class=\"sk-estimator sk-toggleable\"><input class=\"sk-toggleable__control sk-hidden--visually\" id=\"sk-estimator-id-2\" type=\"checkbox\" checked><label for=\"sk-estimator-id-2\" class=\"sk-toggleable__label sk-toggleable__label-arrow\">LogisticRegression</label><div class=\"sk-toggleable__content\"><pre>LogisticRegression()</pre></div></div></div></div></div>"
      ],
      "text/plain": [
       "LogisticRegression()"
      ]
     },
     "execution_count": 104,
     "metadata": {},
     "output_type": "execute_result"
    }
   ],
   "source": [
    "logit_reg=LogisticRegression()\n",
    "logit_reg.fit(x_train,y_train)"
   ]
  },
  {
   "cell_type": "code",
   "execution_count": 105,
   "id": "c5d29bab",
   "metadata": {},
   "outputs": [
    {
     "name": "stdout",
     "output_type": "stream",
     "text": [
      "***************Test Data Evaluation***************\n",
      "Accuracy Score : 0.8831168831168831\n",
      "****************************************\n",
      "Confusion Matrix :\n",
      " [[50  5]\n",
      " [ 4 18]]\n",
      "****************************************\n",
      "Classification Report :\n",
      "               precision    recall  f1-score   support\n",
      "\n",
      "          No       0.93      0.91      0.92        55\n",
      "         Yes       0.78      0.82      0.80        22\n",
      "\n",
      "    accuracy                           0.88        77\n",
      "   macro avg       0.85      0.86      0.86        77\n",
      "weighted avg       0.88      0.88      0.88        77\n",
      "\n",
      "****************************************\n"
     ]
    }
   ],
   "source": [
    "def evaluation(string, model, ind_var, act):\n",
    "    print(string.center(50, '*'))\n",
    "    pred = model.predict(ind_var)\n",
    "    \n",
    "    acc_score = accuracy_score(act, pred)\n",
    "    print('Accuracy Score :', acc_score)\n",
    "    print('**'*20)\n",
    "    \n",
    "    cnf_matrix = confusion_matrix(act, pred)\n",
    "    print('Confusion Matrix :\\n', cnf_matrix)\n",
    "    print('**'*20)\n",
    "    \n",
    "    clf_report = classification_report(act, pred)\n",
    "    print('Classification Report :\\n', clf_report)\n",
    "    print('**'*20)\n",
    "    \n",
    "    return pred\n",
    "    \n",
    "y_pred = evaluation('Test Data Evaluation', logit_reg, x_test, y_test)"
   ]
  },
  {
   "cell_type": "code",
   "execution_count": 106,
   "id": "821666e2",
   "metadata": {},
   "outputs": [
    {
     "name": "stdout",
     "output_type": "stream",
     "text": [
      "**************Train Data Evaluation***************\n",
      "Accuracy Score : 0.9117647058823529\n",
      "****************************************\n",
      "Confusion Matrix :\n",
      " [[208  12]\n",
      " [ 15  71]]\n",
      "****************************************\n",
      "Classification Report :\n",
      "               precision    recall  f1-score   support\n",
      "\n",
      "          No       0.93      0.95      0.94       220\n",
      "         Yes       0.86      0.83      0.84        86\n",
      "\n",
      "    accuracy                           0.91       306\n",
      "   macro avg       0.89      0.89      0.89       306\n",
      "weighted avg       0.91      0.91      0.91       306\n",
      "\n",
      "****************************************\n"
     ]
    }
   ],
   "source": [
    "y_pred_train = evaluation('Train Data Evaluation', logit_reg, x_train, y_train)"
   ]
  },
  {
   "cell_type": "code",
   "execution_count": null,
   "id": "ad56caed",
   "metadata": {},
   "outputs": [],
   "source": [
    "y_pred_proba_train = logit_reg.predict_proba(x_train)\n",
    "y_pred_proba_train[:,1]"
   ]
  },
  {
   "cell_type": "code",
   "execution_count": 107,
   "id": "a9fd3086",
   "metadata": {},
   "outputs": [
    {
     "data": {
      "text/plain": [
       "array([0.95275939, 0.38329299, 0.02266777, 0.01518985, 0.99968913,\n",
       "       0.0407671 , 0.41718519, 0.03135142, 0.02432598, 0.28796757,\n",
       "       0.04417449, 0.01143361, 0.92703308, 0.01170099, 0.05288532,\n",
       "       0.03635609, 0.02399345, 0.74240363, 0.01203175, 0.15182747,\n",
       "       0.10663598, 0.53085539, 0.75181357, 0.04207017, 0.7593378 ,\n",
       "       0.43012401, 0.8744739 , 0.53987769, 0.02922865, 0.65015839,\n",
       "       0.87023267, 0.02075988, 0.36099343, 0.11047194, 0.28096612,\n",
       "       0.03931536, 0.99943361, 0.02178757, 0.9893492 , 0.02089812,\n",
       "       0.86190051, 0.61795852, 0.04266798, 0.99788987, 0.02371307,\n",
       "       0.97323967, 0.83520695, 0.04391119, 0.0550721 , 0.0276862 ,\n",
       "       0.00693929, 0.01901179, 0.27620723, 0.26766822, 0.01272262,\n",
       "       0.01840106, 0.01298617, 0.07830007, 0.02083805, 0.04104378,\n",
       "       0.91017663, 0.11237115, 0.10731804, 0.56362768, 0.88830766,\n",
       "       0.09635104, 0.02333619, 0.02047507, 0.1262247 , 0.25572082,\n",
       "       0.0867452 , 0.15219827, 0.27560888, 0.03957068, 0.99772373,\n",
       "       0.63533649, 0.03913382])"
      ]
     },
     "execution_count": 107,
     "metadata": {},
     "output_type": "execute_result"
    }
   ],
   "source": [
    "y_pred_proba_test = logit_reg.predict_proba(x_test)\n",
    "y_pred_proba_test[:,1]"
   ]
  },
  {
   "cell_type": "code",
   "execution_count": 108,
   "id": "167aa724",
   "metadata": {},
   "outputs": [
    {
     "data": {
      "text/plain": [
       "0.9634249471458773"
      ]
     },
     "execution_count": 108,
     "metadata": {},
     "output_type": "execute_result"
    }
   ],
   "source": [
    "auc_score  = roc_auc_score(y_train, y_pred_proba_train[:,1])\n",
    "auc_score"
   ]
  },
  {
   "cell_type": "code",
   "execution_count": null,
   "id": "323605a6",
   "metadata": {},
   "outputs": [],
   "source": [
    "auc_score1  = roc_auc_score(y_test, y_pred_proba_test[:,1])\n",
    "auc_score1"
   ]
  },
  {
   "cell_type": "code",
   "execution_count": null,
   "id": "bbed6b9e",
   "metadata": {},
   "outputs": [],
   "source": [
    "y_pred_proba = logit_reg.predict_proba(x_test)\n",
    "y_pred_proba"
   ]
  },
  {
   "cell_type": "code",
   "execution_count": null,
   "id": "bf8a1644",
   "metadata": {},
   "outputs": [],
   "source": [
    "result = y_pred_proba[22:23]\n",
    "result[0,1]"
   ]
  },
  {
   "cell_type": "code",
   "execution_count": 121,
   "id": "738b603a",
   "metadata": {},
   "outputs": [],
   "source": [
    "Age=27 \n",
    "Gender='F' \n",
    "Smoking='No' \n",
    "HxSmoking ='No' \n",
    "HxRadiothreapy= 'No' \n",
    "ThyroidFunction= 'Euthyroid' \n",
    "PhysicalExamination= 'Single nodular goiter-left' \n",
    "Adenopathy= 'No' \n",
    "Pathology= 'Micropapillary' \n",
    "Focality= 'Uni-Focal' \n",
    "Risk= 'Low' \n",
    "T ='T1a' \n",
    "N= 'N0' \n",
    "M ='M0' \n",
    "Stage ='I' \n",
    "Response= 'Indeterminate'"
   ]
  },
  {
   "cell_type": "code",
   "execution_count": null,
   "id": "f4d7c19a",
   "metadata": {},
   "outputs": [],
   "source": [
    "test_array=x.head(1).values\n",
    "\n",
    "\n",
    "# test_array = np.array([Age,Gender,Smoking,HxSmoking,HxRadiothreapy,ThyroidFunction,PhysicalExamination, \n",
    "#                        Adenopathy,Pathology, Focality,Risk,T ,N,M,Stage,Response], ndmin = 2)\n",
    "# test_array\n",
    "pred_class = logit_reg.predict(test_array)[0]\n",
    "print('Predicted Class is :', pred_class)\n",
    "\n",
    "def get_pred_class(threshold, result):\n",
    "    prob = result[0,1]\n",
    "    if prob >= threshold:\n",
    "        return 'Yes,Thyroid is Reccured'\n",
    "    \n",
    "    else:\n",
    "        return 'No,Thyroid is not Reccured'\n",
    "    \n",
    "    \n",
    "result = logit_reg.predict_proba(test_array)\n",
    "print(result)\n",
    "threshold = 0.6\n",
    "\n",
    "pred_class = get_pred_class(threshold, result)\n",
    "print('Predicted Class is :', pred_class)"
   ]
  },
  {
   "cell_type": "code",
   "execution_count": null,
   "id": "23ad6374",
   "metadata": {},
   "outputs": [],
   "source": [
    "x_train.head()\n"
   ]
  },
  {
   "cell_type": "code",
   "execution_count": 137,
   "id": "6bc71ab6",
   "metadata": {},
   "outputs": [
    {
     "data": {
      "text/plain": [
       "Index(['Age', 'Gender', 'Smoking', 'HxSmoking', 'HxRadiothreapy', 'Focality',\n",
       "       'Risk', 'N', 'M', 'Stage', 'Response',\n",
       "       'ThyroidFunction_Clinical Hyperthyroidism',\n",
       "       'ThyroidFunction_Clinical Hypothyroidism', 'ThyroidFunction_Euthyroid',\n",
       "       'ThyroidFunction_Subclinical Hyperthyroidism',\n",
       "       'ThyroidFunction_Subclinical Hypothyroidism',\n",
       "       'PhysicalExamination_Diffuse goiter',\n",
       "       'PhysicalExamination_Multinodular goiter', 'PhysicalExamination_Normal',\n",
       "       'PhysicalExamination_Single nodular goiter-left',\n",
       "       'PhysicalExamination_Single nodular goiter-right',\n",
       "       'Adenopathy_Bilateral', 'Adenopathy_Extensive', 'Adenopathy_Left',\n",
       "       'Adenopathy_No', 'Adenopathy_Posterior', 'Adenopathy_Right',\n",
       "       'Pathology_Follicular', 'Pathology_Hurthel cell',\n",
       "       'Pathology_Micropapillary', 'Pathology_Papillary', 'T_T1a', 'T_T1b',\n",
       "       'T_T2', 'T_T3a', 'T_T3b', 'T_T4a', 'T_T4b'],\n",
       "      dtype='object')"
      ]
     },
     "execution_count": 137,
     "metadata": {},
     "output_type": "execute_result"
    }
   ],
   "source": [
    "columns_names=x_train.columns\n",
    "columns_names"
   ]
  },
  {
   "cell_type": "code",
   "execution_count": null,
   "id": "9f212288",
   "metadata": {},
   "outputs": [],
   "source": []
  },
  {
   "cell_type": "code",
   "execution_count": 110,
   "id": "57528552",
   "metadata": {},
   "outputs": [
    {
     "name": "stdout",
     "output_type": "stream",
     "text": [
      "{'Gender': {'F': 0, 'M': 1}, 'Smoking': {'No': 0, 'Yes': 1}, 'HxSmoking': {'No': 0, 'Yes': 1}, 'HxRadiothreapy': {'No': 0, 'Yes': 1}, 'Focality': {'Uni-Focal': 0, 'Multi-Focal': 1}, 'Risk': {'Low': 0, 'Intermediate': 1, 'High': 2}, 'N': {'N0': 0, 'N1a': 1, 'N1b': 2}, 'M': {'M0': 0, 'M1': 1}, 'Stage': {'I': 1, 'II': 2, 'IVA': 3, 'IVB': 4, 'III': 5}, 'Response': {'Excellent': 1, 'Structural Incomplete': 2, 'Indeterminate': 3, 'Biochemical Incomplete': 4}, 'columns': ['Age', 'Gender', 'Smoking', 'HxSmoking', 'HxRadiothreapy', 'Focality', 'Risk', 'N', 'M', 'Stage', 'Response', 'ThyroidFunction_Clinical Hyperthyroidism', 'ThyroidFunction_Clinical Hypothyroidism', 'ThyroidFunction_Euthyroid', 'ThyroidFunction_Subclinical Hyperthyroidism', 'ThyroidFunction_Subclinical Hypothyroidism', 'PhysicalExamination_Diffuse goiter', 'PhysicalExamination_Multinodular goiter', 'PhysicalExamination_Normal', 'PhysicalExamination_Single nodular goiter-left', 'PhysicalExamination_Single nodular goiter-right', 'Adenopathy_Bilateral', 'Adenopathy_Extensive', 'Adenopathy_Left', 'Adenopathy_No', 'Adenopathy_Posterior', 'Adenopathy_Right', 'Pathology_Follicular', 'Pathology_Hurthel cell', 'Pathology_Micropapillary', 'Pathology_Papillary', 'T_T1a', 'T_T1b', 'T_T2', 'T_T3a', 'T_T3b', 'T_T4a', 'T_T4b']}\n"
     ]
    }
   ],
   "source": [
    "project_data={'Gender':{'F':0,'M':1},\n",
    "              'Smoking':{'No':0,'Yes':1},\n",
    "              'HxSmoking':{'No':0,'Yes':1},\n",
    "              'HxRadiothreapy':{'No':0,'Yes':1},  \n",
    "              'Focality':{'Uni-Focal':0,'Multi-Focal':1},\n",
    "              'Risk':{'Low':0,'Intermediate':1,'High':2},\n",
    "              'N':{'N0':0,'N1a':1,'N1b':2},\n",
    "              'M':{'M0':0,'M1':1},\n",
    "              'Stage':{'I':1,'II':2,'IVA':3,'IVB':4,'III':5},\n",
    "              'Response':{'Excellent':1,'Structural Incomplete':2,'Indeterminate':3,'Biochemical Incomplete':4},\n",
    "              'columns':list(columns_names)\n",
    "             }\n",
    "print(project_data)"
   ]
  },
  {
   "cell_type": "code",
   "execution_count": 140,
   "id": "0d8aebce",
   "metadata": {},
   "outputs": [
    {
     "data": {
      "text/plain": [
       "12"
      ]
     },
     "execution_count": 140,
     "metadata": {},
     "output_type": "execute_result"
    }
   ],
   "source": [
    "ThyroidFunction_val= 'ThyroidFunction_' + ThyroidFunction\n",
    "ThyroidFunction_index = project_data['columns'].index(ThyroidFunction_val)\n",
    "# ThyroidFunction_index = np.where(columns_names == ThyroidFunction_val)[0][0]\n",
    "ThyroidFunction_index\n"
   ]
  },
  {
   "cell_type": "code",
   "execution_count": 126,
   "id": "956f4e45",
   "metadata": {},
   "outputs": [
    {
     "data": {
      "text/plain": [
       "19"
      ]
     },
     "execution_count": 126,
     "metadata": {},
     "output_type": "execute_result"
    }
   ],
   "source": [
    "PhysicalExamination_val='PhysicalExamination_'+ PhysicalExamination\n",
    "PhysicalExamination_index = np.where(columns_names == PhysicalExamination_val)[0][0]\n",
    "PhysicalExamination_index"
   ]
  },
  {
   "cell_type": "code",
   "execution_count": 128,
   "id": "5299a983",
   "metadata": {},
   "outputs": [
    {
     "data": {
      "text/plain": [
       "24"
      ]
     },
     "execution_count": 128,
     "metadata": {},
     "output_type": "execute_result"
    }
   ],
   "source": [
    "Adenopathy_val= 'Adenopathy_' + Adenopathy\n",
    "Adenopathy_index =  np.where(columns_names == Adenopathy_val)[0][0]\n",
    "Adenopathy_index"
   ]
  },
  {
   "cell_type": "code",
   "execution_count": 130,
   "id": "5508699a",
   "metadata": {},
   "outputs": [
    {
     "data": {
      "text/plain": [
       "29"
      ]
     },
     "execution_count": 130,
     "metadata": {},
     "output_type": "execute_result"
    }
   ],
   "source": [
    "Pathology_val= 'Pathology_' + Pathology\n",
    "Pathology_index = np.where(columns_names == Pathology_val)[0][0]\n",
    "Pathology_index"
   ]
  },
  {
   "cell_type": "code",
   "execution_count": 129,
   "id": "29ccac09",
   "metadata": {},
   "outputs": [
    {
     "data": {
      "text/plain": [
       "31"
      ]
     },
     "execution_count": 129,
     "metadata": {},
     "output_type": "execute_result"
    }
   ],
   "source": [
    "T_val= 'T_' + T\n",
    "T_index = np.where(columns_names == T_val)[0][0]\n",
    "T_index"
   ]
  },
  {
   "cell_type": "code",
   "execution_count": 131,
   "id": "62681a28",
   "metadata": {},
   "outputs": [
    {
     "data": {
      "text/plain": [
       "array([27.,  0.,  0.,  0.,  0.,  0.,  0.,  0.,  0.,  1.,  3.,  0.,  0.,\n",
       "        1.,  0.,  0.,  0.,  0.,  0.,  1.,  0.,  0.,  0.,  0.,  1.,  0.,\n",
       "        0.,  0.,  0.,  1.,  0.,  1.,  0.,  0.,  0.,  0.,  0.,  0.])"
      ]
     },
     "execution_count": 131,
     "metadata": {},
     "output_type": "execute_result"
    }
   ],
   "source": [
    "test_array = np.zeros(x.shape[1])\n",
    "test_array[0] = Age\n",
    "test_array[1] = project_data['Gender'][Gender]\n",
    "test_array[2] = project_data['Smoking'][Smoking]\n",
    "test_array[3] = project_data['HxSmoking'][HxSmoking]\n",
    "test_array[4] = project_data['HxRadiothreapy'][HxRadiothreapy]\n",
    "test_array[ThyroidFunction_index] = 1\n",
    "test_array[PhysicalExamination_index] = 1\n",
    "test_array[Adenopathy_index] = 1\n",
    "test_array[Pathology_index] = 1\n",
    "test_array[5] = project_data['Focality'][Focality]\n",
    "test_array[6] = project_data['Risk'][Risk]\n",
    "test_array[T_index] = 1\n",
    "test_array[7] = project_data['N'][N]\n",
    "test_array[8] = project_data['M'][M]\n",
    "test_array[9] = project_data['Stage'][Stage]\n",
    "test_array[10] = project_data['Response'][Response]\n",
    "test_array\n",
    "\n",
    "\n",
    "\n"
   ]
  },
  {
   "cell_type": "code",
   "execution_count": 132,
   "id": "190c50a1",
   "metadata": {},
   "outputs": [],
   "source": [
    "Age=5\n",
    "Gender='M' \n",
    "Smoking='No' \n",
    "HxSmoking ='No' \n",
    "HxRadiothreapy= 'No' \n",
    "ThyroidFunction= 'Clinical Hypothyroidism' \n",
    "PhysicalExamination= 'Multinodular goiter' \n",
    "Adenopathy= 'Yes' \n",
    "Pathology= 'Micropapillary' \n",
    "Focality= 'Uni-Focal' \n",
    "Risk= 'Low' \n",
    "T ='T4a' \n",
    "N= 'N1b' \n",
    "M ='M1' \n",
    "Stage ='I' \n",
    "Response= 'Excellent'"
   ]
  },
  {
   "cell_type": "code",
   "execution_count": 134,
   "id": "aa342b8e",
   "metadata": {},
   "outputs": [
    {
     "name": "stdout",
     "output_type": "stream",
     "text": [
      "Predicted Class is : No,Thyroid is not Reccured\n"
     ]
    }
   ],
   "source": [
    "# pred_class = logit_reg.predict([test_array])\n",
    "# print('Predicted Class is :', pred_class)\n",
    "\n",
    "def get_pred_class(threshold, result):\n",
    "    prob = result[0,1]\n",
    "    if prob >= threshold:\n",
    "        return 'Yes,Thyroid is Reccured'\n",
    "    \n",
    "    else:\n",
    "        return 'No,Thyroid is not Reccured'\n",
    "    \n",
    "    \n",
    "result = logit_reg.predict_proba([test_array])\n",
    "\n",
    "threshold = 0.5\n",
    "\n",
    "pred_class = get_pred_class(threshold, result)\n",
    "print('Predicted Class is :', pred_class)"
   ]
  },
  {
   "cell_type": "code",
   "execution_count": 135,
   "id": "b8c13ad0",
   "metadata": {},
   "outputs": [],
   "source": [
    "with open('Logistic_Model.pkl', 'wb') as f:\n",
    "    pickle.dump(logit_reg, f)"
   ]
  },
  {
   "cell_type": "code",
   "execution_count": 136,
   "id": "183bdf7f",
   "metadata": {},
   "outputs": [],
   "source": [
    "with open('project_data.json', 'w') as f:\n",
    "    json.dump(project_data, f)"
   ]
  },
  {
   "cell_type": "code",
   "execution_count": null,
   "id": "b448ab94",
   "metadata": {},
   "outputs": [],
   "source": []
  },
  {
   "cell_type": "code",
   "execution_count": null,
   "id": "c10370cd",
   "metadata": {},
   "outputs": [],
   "source": []
  },
  {
   "cell_type": "code",
   "execution_count": null,
   "id": "ee661cfd",
   "metadata": {},
   "outputs": [],
   "source": []
  },
  {
   "cell_type": "code",
   "execution_count": null,
   "id": "d13c92ed",
   "metadata": {},
   "outputs": [],
   "source": []
  },
  {
   "cell_type": "code",
   "execution_count": null,
   "id": "c577e5d3",
   "metadata": {},
   "outputs": [],
   "source": []
  },
  {
   "cell_type": "code",
   "execution_count": null,
   "id": "6f0162e6",
   "metadata": {},
   "outputs": [],
   "source": []
  },
  {
   "cell_type": "code",
   "execution_count": null,
   "id": "2a172d9b",
   "metadata": {},
   "outputs": [],
   "source": []
  },
  {
   "cell_type": "code",
   "execution_count": null,
   "id": "49a9ab08",
   "metadata": {},
   "outputs": [],
   "source": []
  }
 ],
 "metadata": {
  "kernelspec": {
   "display_name": "Python 3 (ipykernel)",
   "language": "python",
   "name": "python3"
  },
  "language_info": {
   "codemirror_mode": {
    "name": "ipython",
    "version": 3
   },
   "file_extension": ".py",
   "mimetype": "text/x-python",
   "name": "python",
   "nbconvert_exporter": "python",
   "pygments_lexer": "ipython3",
   "version": "3.9.19"
  }
 },
 "nbformat": 4,
 "nbformat_minor": 5
}
